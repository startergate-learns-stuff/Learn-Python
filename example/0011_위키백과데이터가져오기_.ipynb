{
 "cells": [
  {
   "cell_type": "markdown",
   "metadata": {},
   "source": [
    "## CSS 선택자\n",
    "- soup.select_one(선택자) : CSS 선택자로 요소 하나를 추출한다.\n",
    "- soup.select(선택자) : CSS 선택자로 요소 여러 개를 리스트로 추출한다."
   ]
  },
  {
   "cell_type": "code",
   "execution_count": 1,
   "metadata": {},
   "outputs": [],
   "source": [
    "from bs4 import BeautifulSoup\n",
    "import urllib.request as req\n",
    "import re"
   ]
  },
  {
   "cell_type": "code",
   "execution_count": 2,
   "metadata": {},
   "outputs": [],
   "source": [
    "#분석대상\n",
    "html = \"\"\"\n",
    "<html><body>\n",
    "<div id=\"meigen\">\n",
    "  <h1>위키북스 도서</h1>\n",
    "  <ul class=\"items\">\n",
    "     <li>유니티 게임 이펙트 입문</li>\n",
    "     <li>스위프트로 시작하는 아이폰 앱 개발 교과서</li>\n",
    "     <li>모던 웹사이트 디자인의 정석</li>\n",
    "  </ul>\n",
    "</div>\n",
    "</body></html>\n",
    "\"\"\""
   ]
  },
  {
   "cell_type": "code",
   "execution_count": 3,
   "metadata": {},
   "outputs": [],
   "source": [
    "soup = BeautifulSoup(html, 'html.parser')"
   ]
  },
  {
   "cell_type": "code",
   "execution_count": 4,
   "metadata": {},
   "outputs": [
    {
     "data": {
      "text/plain": [
       "'위키북스 도서'"
      ]
     },
     "execution_count": 4,
     "metadata": {},
     "output_type": "execute_result"
    }
   ],
   "source": [
    "# CSS선택자로 필요한 부분 추출하기\n",
    "h1 = soup.select_one(\"div#meigen > h1\").text\n",
    "h1"
   ]
  },
  {
   "cell_type": "code",
   "execution_count": 5,
   "metadata": {},
   "outputs": [
    {
     "data": {
      "text/plain": [
       "[<li>유니티 게임 이펙트 입문</li>,\n",
       " <li>스위프트로 시작하는 아이폰 앱 개발 교과서</li>,\n",
       " <li>모던 웹사이트 디자인의 정석</li>]"
      ]
     },
     "execution_count": 5,
     "metadata": {},
     "output_type": "execute_result"
    }
   ],
   "source": [
    "li_list = soup.select(\"div#meigen > ul.items > li\")\n",
    "li_list"
   ]
  },
  {
   "cell_type": "code",
   "execution_count": 6,
   "metadata": {},
   "outputs": [
    {
     "name": "stdout",
     "output_type": "stream",
     "text": [
      "유니티 게임 이펙트 입문\n",
      "스위프트로 시작하는 아이폰 앱 개발 교과서\n",
      "모던 웹사이트 디자인의 정석\n"
     ]
    }
   ],
   "source": [
    "for li in li_list:\n",
    "    print(li.text)"
   ]
  },
  {
   "cell_type": "markdown",
   "metadata": {},
   "source": [
    "## 위키백과 데이터 가져오기"
   ]
  },
  {
   "cell_type": "code",
   "execution_count": 13,
   "metadata": {},
   "outputs": [
    {
     "name": "stdout",
     "output_type": "stream",
     "text": [
      "- 서시\n",
      "- 자화상\n",
      "- 소년\n",
      "- 눈 오는 지도\n",
      "- 돌아와 보는 밤\n",
      "- 병원\n",
      "- 새로운 길\n",
      "- 간판 없는 거리\n",
      "- 태초의 아침\n",
      "- 또 태초의 아침\n",
      "- 새벽이 올 때까지\n",
      "- 무서운 시간\n",
      "- 십자가\n",
      "- 바람이 불어\n",
      "- 슬픈 족속\n",
      "- 눈감고 간다\n",
      "- 또 다른 고향\n",
      "- 길\n",
      "- 별 헤는 밤\n"
     ]
    }
   ],
   "source": [
    "url = \"https://ko.wikisource.org/wiki/%EC%A0%80%EC%9E%90:%EC%9C%A4%EB%8F%99%EC%A3%BC\"\n",
    "res = req.urlopen(url)\n",
    "soup = BeautifulSoup(res, \"html.parser\")\n",
    "\n",
    "a_list = soup.select(\"#mw-content-text > div > ul > li > ul > li > a\")\n",
    "\n",
    "for a in a_list:\n",
    "    name = a.string\n",
    "    print(\"-\",name)\n"
   ]
  },
  {
   "cell_type": "code",
   "execution_count": 8,
   "metadata": {},
   "outputs": [],
   "source": [
    "html = \"\"\"\n",
    "<ul>\n",
    "  <li><a href = \"hoge.html\">hoge</li>\n",
    "  <li><a href = \"https://example.com/fuga\">fuga*</li>\n",
    "  <li><a href = \"https://example.com/foo\">foo*</li>\n",
    "  <li><a href = \"https://example.com/aaa\">aaa</li>\n",
    " </ul> \n",
    "\"\"\""
   ]
  },
  {
   "cell_type": "code",
   "execution_count": 9,
   "metadata": {},
   "outputs": [
    {
     "data": {
      "text/plain": [
       "\n",
       "<ul>\n",
       "<li><a href=\"hoge.html\">hoge</a></li>\n",
       "<li><a href=\"https://example.com/fuga\">fuga*</a></li>\n",
       "<li><a href=\"https://example.com/foo\">foo*</a></li>\n",
       "<li><a href=\"https://example.com/aaa\">aaa</a></li>\n",
       "</ul>"
      ]
     },
     "execution_count": 9,
     "metadata": {},
     "output_type": "execute_result"
    }
   ],
   "source": [
    "soup = BeautifulSoup(html, \"html.parser\")\n",
    "soup"
   ]
  },
  {
   "cell_type": "code",
   "execution_count": 10,
   "metadata": {},
   "outputs": [
    {
     "data": {
      "text/plain": [
       "[<a href=\"https://example.com/fuga\">fuga*</a>,\n",
       " <a href=\"https://example.com/foo\">foo*</a>,\n",
       " <a href=\"https://example.com/aaa\">aaa</a>]"
      ]
     },
     "execution_count": 10,
     "metadata": {},
     "output_type": "execute_result"
    }
   ],
   "source": [
    "li = soup.find_all(href=re.compile(\"^https://\"))\n",
    "li"
   ]
  },
  {
   "cell_type": "code",
   "execution_count": 11,
   "metadata": {},
   "outputs": [
    {
     "name": "stdout",
     "output_type": "stream",
     "text": [
      "https://example.com/fuga\n",
      "https://example.com/foo\n",
      "https://example.com/aaa\n"
     ]
    }
   ],
   "source": [
    "for a in li :\n",
    "    print(a.attrs['href'])"
   ]
  },
  {
   "cell_type": "markdown",
   "metadata": {},
   "source": [
    "## 문제\n",
    "- 네이버 금융에서 환율정보 추출하기"
   ]
  },
  {
   "cell_type": "code",
   "execution_count": 26,
   "metadata": {},
   "outputs": [],
   "source": [
    "url = \"https://finance.naver.com/marketindex/?tabSel=exchange#tab_section\"\n",
    "res = req.urlopen(url)\n",
    "soup = BeautifulSoup(res, 'html.parser')"
   ]
  },
  {
   "cell_type": "code",
   "execution_count": 38,
   "metadata": {},
   "outputs": [
    {
     "name": "stdout",
     "output_type": "stream",
     "text": [
      "대한민국 원 KRW: 1\n",
      "대한민국 원 KRW: 1\n",
      "미국 달러 USD: 1128.5\n",
      "유럽연합 유로 EUR: 1284.63\n",
      "일본 엔 JPY: 10.3083\n",
      "중국 위안 CNY: 166.03\n",
      "홍콩 달러 HKD: 143.85\n",
      "대만 달러 TWD: 36.54\n",
      "영국 파운드 GBP: 1475.23\n",
      "오만 리알 OMR: 2931.17\n",
      "캐나다 달러 CAD: 845.38\n",
      "스위스 프랑 CHF: 1134.57\n",
      "스웨덴 크로나 SEK: 125.17\n",
      "호주 달러 AUD: 804.23\n",
      "뉴질랜드 달러 NZD: 765.63\n",
      "체코 코루나 CZK: 49.99\n",
      "칠레 페소 CLP: 1.68\n",
      "터키 리라 TRY: 213.17\n",
      "몽골 투그릭 MNT: 0.43\n",
      "이스라엘 세켈 ILS: 307.17\n",
      "덴마크 크로네 DKK: 172.05\n",
      "노르웨이 크로네 NOK: 131.8\n",
      "사우디아라비아 리얄 SAR: 300.89\n",
      "쿠웨이트 디나르 KWD: 3718.9\n",
      "바레인 디나르 BHD: 2993.29\n",
      "아랍에미리트 디르함 AED: 307.23\n",
      "요르단 디나르 JOD: 1590.33\n",
      "이집트 파운드 EGP: 63.08\n",
      "태국 바트 THB: 35.58\n",
      "싱가포르 달러 SGD: 830.6\n",
      "말레이시아 링깃 MYR: 272.75\n",
      "인도네시아 루피아 IDR: 0.0799\n",
      "카타르 리얄 QAR: 309.96\n",
      "카자흐스탄 텡게 KZT: 2.98\n",
      "브루나이 달러 BND: 830.6\n",
      "인도 루피 INR: 15.86\n",
      "파키스탄 루피 PKR: 8.07\n",
      "방글라데시 타카 BDT: 13.49\n",
      "필리핀 페소 PHP: 21.4\n",
      "멕시코 페소 MXN: 59.21\n",
      "브라질 레알 BRL: 299.63\n",
      "베트남 동 VND: 0.048600000000000004\n",
      "남아프리카 공화국 랜드 ZAR: 81.57\n",
      "러시아 루블 RUB: 17.07\n",
      "헝가리 포린트 HUF: 4.04\n",
      "폴란드 즈워티 PLN: 299.54\n"
     ]
    }
   ],
   "source": [
    "\n",
    "lists = soup.select('#select_to > option')\n",
    "for list in lists:\n",
    "    print(list.text+': '+list.attrs['value'])"
   ]
  },
  {
   "cell_type": "code",
   "execution_count": 42,
   "metadata": {},
   "outputs": [],
   "source": [
    "url = \"https://movie.naver.com/movie/running/current.nhn\"\n",
    "res = req.urlopen(url)\n",
    "soup = BeautifulSoup(res, 'html.parser')"
   ]
  },
  {
   "cell_type": "code",
   "execution_count": 110,
   "metadata": {},
   "outputs": [
    {
     "name": "stdout",
     "output_type": "stream",
     "text": [
      " 1위:  8.95점 65.12% 극한직업                                              \n",
      " 2위:  9.04점  9.47% 말모이                                               \n",
      " 3위:  8.67점  4.38% 내안의 그놈                                            \n",
      " 4위:  8.76점  3.68% 주먹왕 랄프 2: 인터넷 속으로                                 \n",
      " 5위:  7.69점  2.09% 글래스                                               \n",
      " 6위:  9.66점  1.17% 그린 북                                              \n",
      " 7위:  9.46점  1.16% 보헤미안 랩소디                                          \n",
      " 8위:  9.49점  1.11% 언더독                                               \n",
      " 9위:  9.18점  0.92% 극장판 공룡메카드: 타이니소어의 섬                               \n",
      "10위:  9.00점  0.86% 일일시호일                                             \n",
      "11위:  9.12점  0.83% 가버나움                                              \n",
      "12위:  9.10점  0.73% 몬스터 파크                                            \n",
      "13위:  6.11점  0.51% 미래의 미라이                                           \n",
      "14위:  7.88점  0.46% 그대 이름은 장미                                         \n",
      "15위:  8.39점   0.4% 아쿠아맨                                              \n",
      "16위:  9.13점  0.36% 인생 후르츠                                            \n",
      "17위:  9.05점  0.33% 구스 베이비                                            \n",
      "18위:  9.11점  0.22% 로마                                                \n",
      "19위:  9.26점  0.19% 스파이더맨: 뉴 유니버스                                     \n",
      "20위:  8.88점  0.16% 쿠르스크                                              \n",
      "21위:  5.50점  0.16% 파이널리스트                                            \n",
      "22위:  8.84점  0.15% 왕이 될 아이                                           \n",
      "23위:  8.48점  0.14% 우행록: 어리석은 자의 기록                                   \n",
      "24위:  8.45점  0.11% 레토                                                \n",
      "25위:  9.21점  0.11% 러빙 빈센트                                            \n",
      "26위:  9.34점  0.09% 쉰들러 리스트                                           \n",
      "27위:  7.95점  0.08% 메이트                                               \n",
      "28위:  9.19점  0.08% 피의 연대기                                            \n",
      "29위:  6.69점  0.05% 크리미널 게임: 보석 사기단                                   \n",
      "30위:  9.00점  0.05% 베스와 베라                                            \n",
      "31위:  8.42점  0.05% 스윙키즈                                              \n",
      "32위:  9.29점  0.04% 이차크의 행복한 바이올린                                     \n",
      "33위:  7.87점  0.04% 리지                                                \n",
      "34위:  9.58점  0.03% 어른이 되면                                            \n",
      "35위:  8.21점  0.03% 미스터 스마일                                           \n",
      "36위:  5.40점  0.03% 행맨                                                \n",
      "37위:  9.49점  0.03% 버블 패밀리                                            \n",
      "38위:  9.17점  0.03% 점박이 한반도의 공룡2 : 새로운 낙원                             \n",
      "39위: 10.00점  0.03% 얼굴들                                               \n",
      "40위:  8.62점  0.02% 창간호                                               \n",
      "41위:  9.18점  0.02% 바울                                                \n",
      "42위:  9.15점  0.02% 스타 이즈 본                                           \n",
      "43위:  7.50점  0.01% 두 번째 여름, 두 번 다시 만날 수 없는 너                         \n",
      "44위:  8.34점  0.01% 갈매기                                               \n",
      "45위:  5.62점  0.01% 빌리어네어 보이즈클럽                                       \n",
      "46위:  9.38점  0.01% 더 서치                                              \n",
      "47위:  8.31점  0.01% 두 번째 겨울                                           \n",
      "48위:  5.31점  0.01% PMC: 더 벙커                                         \n",
      "49위:  6.50점  0.01% 마약왕                                               \n",
      "50위:  8.43점  0.01% 영주                                                \n",
      "51위:  9.08점  0.01% 집의 시간들                                            \n",
      "52위:  6.66점  0.01% 산상수훈                                              \n",
      "53위:  7.86점  0.01% 풀잎들                                               \n",
      "54위:  9.52점  0.01% 할머니의 먼 집                                          \n",
      "55위:  8.26점  0.01% 더 파티                                              \n",
      "56위:  6.25점  0.01% 도어락                                               \n",
      "57위:  6.89점  0.01% 하나 빼고 완벽한 뉴욕 아파트                                  \n",
      "58위:  5.74점  0.01% 언니                                                \n",
      "59위:  8.64점  0.01% 선종 무문관                                            \n",
      "60위:  8.74점  0.01% 1991, 봄                                           \n",
      "61위:  5.71점  0.01% 레인보우: 나의 사랑                                       \n",
      "62위:  8.12점  0.01% 범블비                                               \n",
      "63위:  9.41점  0.01% 폴란드로 간 아이들                                        \n",
      "64위:  8.17점  0.01% 국가부도의 날                                           \n",
      "65위:  9.04점  0.01% 극장판 포켓몬스터 모두의 이야기                                 \n",
      "66위:  8.85점  0.01% 메리 셸리: 프랑켄슈타인의 탄생                                 \n",
      "67위:  8.13점  0.01% B급 며느리                                            \n",
      "68위:  6.90점  0.01% 군산: 거위를 노래하다                                      \n",
      "69위:  8.93점  0.01% 금지된 장난                                            \n",
      "70위:  7.65점  0.01% 다영씨                                               \n",
      "71위:  8.22점  0.01% 대관람차                                              \n",
      "72위:  7.05점  0.01% 데스트랩                                              \n",
      "73위:  9.19점  0.01% 라디오 스타                                            \n",
      "74위:  7.20점  0.01% 말 없는 사나이                                          \n",
      "75위:  8.09점  0.01% 박열                                                \n",
      "76위:  9.06점  0.01% 번개맨의 비밀                                           \n",
      "77위:  8.83점  0.01% 볼 오브 파이어                                          \n",
      "78위:  7.24점  0.01% 뷰티풀 데이즈                                           \n",
      "79위:  8.30점  0.01% 살아남은 아이                                           \n",
      "80위:  7.75점  0.01% 안녕, 나의 소녀 시절이여                                    \n",
      "81위:  9.24점  0.01% 어느 가족                                             \n",
      "82위:  9.03점  0.01% 왕의 남자                                             \n",
      "83위:  2.33점  0.01% 욕망                                                \n",
      "84위:  7.31점  0.01% 운동회                                               \n",
      "85위:  8.29점  0.01% 인 디 아일                                            \n",
      "86위:  4.71점  0.01% 인어전설                                              \n",
      "87위:  8.05점  0.01% 죄 많은 소녀                                           \n",
      "88위:  7.95점  0.01% 참외향기                                              \n",
      "89위:  8.84점  0.01% 콰이강의 다리                                           \n",
      "90위:  8.67점  0.01% 해저 2만리                                            \n",
      "91위:  6.98점  0.01% 행복의 나라                                            \n",
      "92위:  5.25점  0.01% 혈투                                                \n"
     ]
    }
   ],
   "source": [
    "lists = soup.select('#content > div.article > div:nth-of-type(1) > div.lst_wrap > ul > li')\n",
    "i = 1\n",
    "for list in lists:\n",
    "    try:\n",
    "        print('{:>2}위: {:>5}점 {:>5}% {:<50}'.format(i, list.select_one(\"div.star_t1 > a > span.num\").string, list.select_one(\"dl.info_exp > dd > div.b_star > span.num\").string, list.select_one(\"dt.tit > a\").string))\n",
    "        i += 1\n",
    "    except:\n",
    "        break\n",
    "    "
   ]
  },
  {
   "cell_type": "code",
   "execution_count": null,
   "metadata": {},
   "outputs": [],
   "source": []
  }
 ],
 "metadata": {
  "kernelspec": {
   "display_name": "Python 3",
   "language": "python",
   "name": "python3"
  },
  "language_info": {
   "codemirror_mode": {
    "name": "ipython",
    "version": 3
   },
   "file_extension": ".py",
   "mimetype": "text/x-python",
   "name": "python",
   "nbconvert_exporter": "python",
   "pygments_lexer": "ipython3",
   "version": "3.7.1"
  }
 },
 "nbformat": 4,
 "nbformat_minor": 2
}
