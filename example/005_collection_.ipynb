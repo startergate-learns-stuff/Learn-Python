{
 "cells": [
  {
   "cell_type": "markdown",
   "metadata": {},
   "source": [
    "# 컬렉션 관리 함수 enumerate"
   ]
  },
  {
   "cell_type": "code",
   "execution_count": 1,
   "metadata": {},
   "outputs": [
    {
     "name": "stdout",
     "output_type": "stream",
     "text": [
      "성적 : 88\n",
      "성적 : 95\n",
      "성적 : 70\n",
      "성적 : 100\n",
      "성적 : 99\n"
     ]
    }
   ],
   "source": [
    "score =[ 88, 95, 70, 100, 99]\n",
    "for s in score:\n",
    "    print(\"성적 :\", s)"
   ]
  },
  {
   "cell_type": "markdown",
   "metadata": {},
   "source": [
    "다음과 같이 출력하는 코드 작성하기\n",
    "- 1번 학생의 성적 : 88\n",
    "- 2번 학생의 성적 : 95\n",
    "- 3번 학생의 성적 : 70\n",
    "- 4번 학생의 성적 : 100\n",
    "- 5번 학생의 성적 : 99"
   ]
  },
  {
   "cell_type": "code",
   "execution_count": 4,
   "metadata": {},
   "outputs": [
    {
     "name": "stdout",
     "output_type": "stream",
     "text": [
      "1 번 학생의 성적:  88\n",
      "2 번 학생의 성적:  95\n",
      "3 번 학생의 성적:  70\n",
      "4 번 학생의 성적:  100\n",
      "5 번 학생의 성적:  99\n"
     ]
    }
   ],
   "source": [
    "score =[ 88, 95, 70, 100, 99]\n",
    "no = 1\n",
    "for s in score:\n",
    "    print(no, '번 학생의 성적: ', s)\n",
    "    no += 1"
   ]
  },
  {
   "cell_type": "code",
   "execution_count": 5,
   "metadata": {},
   "outputs": [
    {
     "name": "stdout",
     "output_type": "stream",
     "text": [
      "1 번 학생의 성적:  88\n",
      "2 번 학생의 성적:  95\n",
      "3 번 학생의 성적:  70\n",
      "4 번 학생의 성적:  100\n",
      "5 번 학생의 성적:  99\n"
     ]
    }
   ],
   "source": [
    "score =[ 88, 95, 70, 100, 99]\n",
    "for no in range(len(score)):\n",
    "    print(no+1, '번 학생의 성적: ', score[no])"
   ]
  },
  {
   "cell_type": "code",
   "execution_count": 6,
   "metadata": {},
   "outputs": [
    {
     "name": "stdout",
     "output_type": "stream",
     "text": [
      "1 번 학생의 성적:  88\n",
      "2 번 학생의 성적:  95\n",
      "3 번 학생의 성적:  70\n",
      "4 번 학생의 성적:  100\n",
      "5 번 학생의 성적:  99\n"
     ]
    }
   ],
   "source": [
    "score = [ 88, 95, 70, 100, 99]\n",
    "for no, s in enumerate(score, 1):\n",
    "    print(no, '번 학생의 성적: ', s)"
   ]
  },
  {
   "cell_type": "markdown",
   "metadata": {},
   "source": [
    "# 컬렉션 관리함수 : zip"
   ]
  },
  {
   "cell_type": "code",
   "execution_count": 8,
   "metadata": {},
   "outputs": [],
   "source": [
    "weekday=[\"월\", \"화\", \"수\", \"목\", \"금\", \"토\", \"일\"]\n",
    "food = [\"갈비탕\", \"순대국\", \"칼국수\", \"삼겹살\"]"
   ]
  },
  {
   "cell_type": "markdown",
   "metadata": {},
   "source": [
    "다음과 같이 출력하는 코드 작성하기\n",
    "- 월요일 메뉴 : 갈비탕\n",
    "- 화요일 메뉴 : 순대국\n",
    "- 수요일 메뉴 : 칼국수\n",
    "- 목요일 메뉴 : 삼겹살"
   ]
  },
  {
   "cell_type": "code",
   "execution_count": 9,
   "metadata": {},
   "outputs": [
    {
     "name": "stdout",
     "output_type": "stream",
     "text": [
      "월요일 메뉴: 갈비탕\n",
      "화요일 메뉴: 순대국\n",
      "수요일 메뉴: 칼국수\n",
      "목요일 메뉴: 삼겹살\n"
     ]
    }
   ],
   "source": [
    "menu = zip(weekday, food)\n",
    "for w, f in menu:\n",
    "    print(w+'요일 메뉴: '+f)"
   ]
  },
  {
   "cell_type": "code",
   "execution_count": 10,
   "metadata": {},
   "outputs": [
    {
     "data": {
      "text/plain": [
       "{'월': '갈비탕', '화': '순대국', '수': '칼국수', '목': '삼겹살'}"
      ]
     },
     "execution_count": 10,
     "metadata": {},
     "output_type": "execute_result"
    }
   ],
   "source": [
    "dict(zip(weekday, food))"
   ]
  },
  {
   "cell_type": "markdown",
   "metadata": {},
   "source": [
    "# filter\n",
    "success 함수는 60점 이상인지 조사하는 함수이다."
   ]
  },
  {
   "cell_type": "code",
   "execution_count": 12,
   "metadata": {},
   "outputs": [
    {
     "name": "stdout",
     "output_type": "stream",
     "text": [
      "89\n",
      "72\n",
      "94\n"
     ]
    }
   ],
   "source": [
    "def success(s):\n",
    "    return s >= 60\n",
    "score = [ 45, 89, 72, 53, 94 ]\n",
    "for s in filter(success, score):\n",
    "    print(s)"
   ]
  },
  {
   "cell_type": "code",
   "execution_count": 14,
   "metadata": {},
   "outputs": [
    {
     "name": "stdout",
     "output_type": "stream",
     "text": [
      "89\n",
      "72\n",
      "94\n"
     ]
    }
   ],
   "source": [
    "score = [ 45, 89, 72, 53, 94 ]\n",
    "for s in filter(lambda x: x >= 60, score):\n",
    "    print(s)"
   ]
  },
  {
   "cell_type": "markdown",
   "metadata": {},
   "source": [
    "# map"
   ]
  },
  {
   "cell_type": "code",
   "execution_count": 17,
   "metadata": {},
   "outputs": [
    {
     "name": "stdout",
     "output_type": "stream",
     "text": [
      "22.5, 44.5, 36.0, 26.5, 47.0, "
     ]
    }
   ],
   "source": [
    "def half(s):\n",
    "    return s/2\n",
    "score = [ 45, 89, 72, 53, 94 ]\n",
    "for s in map(half, score):\n",
    "    print(s, end =', ')"
   ]
  },
  {
   "cell_type": "code",
   "execution_count": 18,
   "metadata": {},
   "outputs": [
    {
     "name": "stdout",
     "output_type": "stream",
     "text": [
      "22.5, 44.5, 36.0, 26.5, 47.0, "
     ]
    }
   ],
   "source": [
    "# 람다식 표현으로 바꾸기\n",
    "score = [ 45, 89, 72, 53, 94 ]\n",
    "for s in map(lambda x:x/2, score):\n",
    "    print(s, end =', ')"
   ]
  },
  {
   "cell_type": "code",
   "execution_count": 20,
   "metadata": {},
   "outputs": [
    {
     "name": "stdout",
     "output_type": "stream",
     "text": [
      "4050.0, 7600.0, 5040.0, 4240.0, 4700.0, "
     ]
    }
   ],
   "source": [
    "def discount_price(a,b):\n",
    "    return a-a*(b/100)\n",
    "    \n",
    "price = [ 4500, 8000, 7200, 5300, 9400 ]\n",
    "discount = [10, 5, 30, 20, 50]\n",
    "for s in map(discount_price, price, discount):\n",
    "    print(s, end=\", \")"
   ]
  },
  {
   "cell_type": "code",
   "execution_count": 19,
   "metadata": {},
   "outputs": [
    {
     "name": "stdout",
     "output_type": "stream",
     "text": [
      "4050.0, 7600.0, 5040.0, 4240.0, 4700.0, "
     ]
    }
   ],
   "source": [
    "price = [ 4500, 8000, 7200, 5300, 9400 ]\n",
    "discount = [10, 5, 30, 20, 50]\n",
    "# 람다식 표현으로 바꾸기\n",
    "for s in map(lambda a,b: a-a*(b/100), price, discount):\n",
    "    print(s, end=\", \")"
   ]
  },
  {
   "cell_type": "code",
   "execution_count": null,
   "metadata": {},
   "outputs": [],
   "source": [
    "lambda x : x+1\n",
    "\n",
    "def increase(x):\n",
    "    return x+1\n",
    "\n",
    "increase(1)"
   ]
  },
  {
   "cell_type": "markdown",
   "metadata": {},
   "source": [
    "## (문제)\n",
    "- n개의 숫자를 입력받아 덧셈하여 결과 값을 출력하기"
   ]
  },
  {
   "cell_type": "code",
   "execution_count": 27,
   "metadata": {},
   "outputs": [
    {
     "name": "stdout",
     "output_type": "stream",
     "text": [
      "3 5 4 6\n",
      "18\n"
     ]
    }
   ],
   "source": [
    "numbers = input().split()\n",
    "def sum(ns):\n",
    "    sum = 0\n",
    "    for i in map(lambda x: int(x), numbers):\n",
    "        sum += i\n",
    "    return sum\n",
    "\n",
    "print(sum(numbers))"
   ]
  },
  {
   "cell_type": "markdown",
   "metadata": {},
   "source": [
    "# reduce\n",
    "- 주어진 시퀀스 자료형을 하나의 값으로 축약"
   ]
  },
  {
   "cell_type": "code",
   "execution_count": 28,
   "metadata": {},
   "outputs": [
    {
     "data": {
      "text/plain": [
       "55"
      ]
     },
     "execution_count": 28,
     "metadata": {},
     "output_type": "execute_result"
    }
   ],
   "source": [
    "def f(x,L):\n",
    "    x=0\n",
    "    for y in L:\n",
    "        x=x+y*y\n",
    "    return x\n",
    "\n",
    "t = [ 1, 2, 3, 4, 5]\n",
    "f(0,t)"
   ]
  },
  {
   "cell_type": "code",
   "execution_count": 29,
   "metadata": {},
   "outputs": [
    {
     "data": {
      "text/plain": [
       "55"
      ]
     },
     "execution_count": 29,
     "metadata": {},
     "output_type": "execute_result"
    }
   ],
   "source": [
    "from functools import reduce\n",
    "\n",
    "result = reduce(lambda x,y:x+y*y, t)\n",
    "result"
   ]
  },
  {
   "cell_type": "markdown",
   "metadata": {},
   "source": [
    "## 리스트 컴프리헨션(리스트 표현식)"
   ]
  },
  {
   "cell_type": "markdown",
   "metadata": {},
   "source": [
    "- 1부터 10까지 정수 리스트"
   ]
  },
  {
   "cell_type": "code",
   "execution_count": 38,
   "metadata": {},
   "outputs": [
    {
     "name": "stdout",
     "output_type": "stream",
     "text": [
      "[1, 2, 3, 4, 5, 6, 7, 8, 9, 10]\n",
      "[1, 2, 3, 4, 5, 6, 7, 8, 9, 10]\n"
     ]
    }
   ],
   "source": [
    "list = []\n",
    "for li in range(10):\n",
    "    list.append(li+1)\n",
    "print(list)\n",
    "print([i+1 for i in range(10)])"
   ]
  },
  {
   "cell_type": "markdown",
   "metadata": {},
   "source": [
    "- 1부터 10의 제곱 리스트"
   ]
  },
  {
   "cell_type": "code",
   "execution_count": 40,
   "metadata": {},
   "outputs": [
    {
     "data": {
      "text/plain": [
       "[1, 4, 9, 16, 25, 36, 49, 64, 81, 100]"
      ]
     },
     "execution_count": 40,
     "metadata": {},
     "output_type": "execute_result"
    }
   ],
   "source": [
    "# 리스트 표현식으로 만들기\n",
    "[(i+1)**2 for i in range(10)]"
   ]
  },
  {
   "cell_type": "code",
   "execution_count": 1,
   "metadata": {},
   "outputs": [
    {
     "data": {
      "text/plain": [
       "[1, 4, 9, 16, 25, 36, 49, 64, 81, 100]"
      ]
     },
     "execution_count": 1,
     "metadata": {},
     "output_type": "execute_result"
    }
   ],
   "source": [
    "# 람다식으로 만들기\n",
    "# [(lambda x: x**2)(i) for i in range(1, 11)]\n",
    "lambdas = lambda x: x**2\n",
    "list(map(lambdas, [1, 2, 3, 4, 5, 6, 7, 8, 9, 10]))"
   ]
  },
  {
   "cell_type": "markdown",
   "metadata": {},
   "source": [
    "- 제곱리스트에서 짝수만 걸러내기"
   ]
  },
  {
   "cell_type": "code",
   "execution_count": 3,
   "metadata": {},
   "outputs": [
    {
     "data": {
      "text/plain": [
       "[4, 16, 36, 64, 100]"
      ]
     },
     "execution_count": 3,
     "metadata": {},
     "output_type": "execute_result"
    }
   ],
   "source": [
    "# 리스트표현식으로 만들기\n",
    "[(i + 1) ** 2 for i in range(10) if (i + 1) % 2 == 0]"
   ]
  },
  {
   "cell_type": "code",
   "execution_count": 4,
   "metadata": {},
   "outputs": [
    {
     "data": {
      "text/plain": [
       "[4, 16, 36, 64, 100]"
      ]
     },
     "execution_count": 4,
     "metadata": {},
     "output_type": "execute_result"
    }
   ],
   "source": [
    "# 람다식으로 만들기\n",
    "list(filter(lambda x:x % 2 == 0,map(lambdas, [1, 2, 3, 4, 5, 6, 7, 8, 9, 10])))"
   ]
  }
 ],
 "metadata": {
  "kernelspec": {
   "display_name": "Python 3",
   "language": "python",
   "name": "python3"
  },
  "language_info": {
   "codemirror_mode": {
    "name": "ipython",
    "version": 3
   },
   "file_extension": ".py",
   "mimetype": "text/x-python",
   "name": "python",
   "nbconvert_exporter": "python",
   "pygments_lexer": "ipython3",
   "version": "3.7.1"
  }
 },
 "nbformat": 4,
 "nbformat_minor": 2
}
