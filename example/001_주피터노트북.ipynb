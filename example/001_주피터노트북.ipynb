{
 "cells": [
  {
   "cell_type": "markdown",
   "metadata": {},
   "source": [
    "## 주피터노트북 사용방법\n",
    "\n",
    "- (특징) 브라우저에서 프로그램 실행(원격에서 접속 가능)\n",
    "- [move] 메뉴를 통해 경로 확인 가능\n",
    "- 세팅조정시 원격에서 접속 가능"
   ]
  },
  {
   "cell_type": "markdown",
   "metadata": {},
   "source": [
    "## 단축키"
   ]
  },
  {
   "cell_type": "markdown",
   "metadata": {},
   "source": [
    "## 셀 선택모드(Command Mode)\n",
    "\n",
    "- 위로 셀 추가 [a]\n",
    "- 아래로 셀 추가 [b]\n",
    "- 선택 셀 삭제 [d][d] (d를 두번 누름)\n",
    "- 선택 셀 잘라내기 [x]\n",
    "- 선택 셀과 아래 셀과 합치기 [shift] + [m]\n",
    "- 실행결과 열기/닫기 [o]\n",
    "- Markdown으로 변경 [m]\n",
    "- Code로 변경 [y]\n",
    "- 파일 저장 [ctrl] + [s] 또는 [s] \n",
    "- 선택 셀의 코드 입력 모드로 돌아가기 [enter]\n"
   ]
  },
  {
   "cell_type": "markdown",
   "metadata": {},
   "source": [
    "## 코드 입력 모드\n",
    "\n",
    "- 선택 셀의 코드 전체 선택 [ctrl]+[a]\n",
    "- 선택 셀 내 실행 취소 [ctrl]+[z]\n",
    "- 커서 위치 라인 주석처리 [ctrl]+[/]\n",
    "- 선택 셀 코드 실행 [ctrl]+[enter]\n",
    "- 선택 셀 코드 실행 후 다음 셀로 이동 [shift]+[enter]\n",
    "- 커서 위치에서 셀 둘로 나누기 [shift]+[ctrl]+[-]\n",
    "- 셀 선택 모드로 돌아가기 [esc]"
   ]
  },
  {
   "cell_type": "markdown",
   "metadata": {},
   "source": [
    "## Markdown\n",
    "### 1. 헤더쓰기\n",
    "    * 실행모드 숫자 1-6 -> 제목의 크기"
   ]
  },
  {
   "cell_type": "markdown",
   "metadata": {},
   "source": [
    "# 이건 `<h1>` 태그와 같습니다.\n",
    "## 이건 `<h2>` 태그와 같습니다.\n",
    "### 이건 `<h3>` 태그와 같습니다."
   ]
  },
  {
   "cell_type": "markdown",
   "metadata": {},
   "source": [
    "### 2. 강조하기\n",
    "\n",
    "*이건 이탈릭체(기울이기)입니다.*\n",
    "\n",
    "_이것도 이탈릭체(기울이기)입니다._\n",
    "\n",
    "**이건 볼드체(굵은 체)입니다.**\n",
    "\n",
    "__이것도 볼드체(굵은 체)입니다.__\n",
    "\n",
    "~~이건 취소선입니다~~\n"
   ]
  },
  {
   "cell_type": "markdown",
   "metadata": {},
   "source": [
    "### 3. 리스트 쓰기\n",
    "* 리스트\n",
    "* 리스트\n",
    "    * 리스트\n",
    "    * 리스트"
   ]
  },
  {
   "cell_type": "markdown",
   "metadata": {},
   "source": [
    "1. 하나\n",
    "2. 둘\n",
    "3. 셋\n",
    "    1. 셋에 하나\n",
    "    2. 셋에 둘"
   ]
  },
  {
   "cell_type": "markdown",
   "metadata": {},
   "source": [
    "### 4. 블록 인용하기\n",
    "> 인용문  \n",
    "> 코딩하기 좋은 날이구나"
   ]
  },
  {
   "cell_type": "markdown",
   "metadata": {},
   "source": [
    "### 5. 구분선 만들기\n",
    "---"
   ]
  },
  {
   "cell_type": "markdown",
   "metadata": {},
   "source": [
    "## 주피터 노트북 기본폴더 변경\n",
    "\n",
    "*(윈도우10)*\n",
    "1. 주피터노트북 아이콘 속성  %USERPROFILE% 삭제\n",
    "2. Anaconda prompt 를 실행\n",
    "3. jupyter notebook --generate-config\n",
    "4. C:\\users\\username\\.jupyter\\jupyter_notebook_config.py 파일 수정\n",
    "-  #c.NotebookApp.notebook_dir = ''\n",
    "- 주석제거, 폴더지정 단, 폴더구분 /"
   ]
  }
 ],
 "metadata": {
  "kernelspec": {
   "display_name": "Python 3",
   "language": "python",
   "name": "python3"
  },
  "language_info": {
   "codemirror_mode": {
    "name": "ipython",
    "version": 3
   },
   "file_extension": ".py",
   "mimetype": "text/x-python",
   "name": "python",
   "nbconvert_exporter": "python",
   "pygments_lexer": "ipython3",
   "version": "3.6.5"
  }
 },
 "nbformat": 4,
 "nbformat_minor": 2
}
