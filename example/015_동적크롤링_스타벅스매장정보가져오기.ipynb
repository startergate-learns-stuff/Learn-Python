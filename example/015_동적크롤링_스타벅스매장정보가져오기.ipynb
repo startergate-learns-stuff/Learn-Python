{
 "cells": [
  {
   "cell_type": "code",
   "execution_count": 4,
   "metadata": {},
   "outputs": [],
   "source": [
    "from selenium import webdriver as wb\n",
    "from selenium.webdriver.common.keys import Keys\n",
    "from bs4 import BeautifulSoup as bs\n",
    "import time"
   ]
  },
  {
   "cell_type": "code",
   "execution_count": 5,
   "metadata": {},
   "outputs": [],
   "source": [
    "driver = wb.Chrome()\n",
    "\n",
    "url = 'http://www.istarbucks.co.kr/store/store_map.do'\n",
    "driver.get(url)"
   ]
  },
  {
   "cell_type": "code",
   "execution_count": 7,
   "metadata": {},
   "outputs": [
    {
     "name": "stderr",
     "output_type": "stream",
     "text": [
      "d:\\ProgramData\\Anaconda\\lib\\site-packages\\ipykernel_launcher.py:1: DeprecationWarning: use driver.switch_to.alert instead\n",
      "  \"\"\"Entry point for launching an IPython kernel.\n"
     ]
    }
   ],
   "source": [
    "alert = driver.switch_to_alert()\n",
    "alert.accept()"
   ]
  },
  {
   "cell_type": "code",
   "execution_count": 8,
   "metadata": {
    "scrolled": true
   },
   "outputs": [],
   "source": [
    "driver.page_source\n",
    "\n",
    "time.sleep(1)\n",
    "driver.find_element_by_css_selector('header.loca_search > h3 > a').click()\n",
    "time.sleep(1)\n",
    "driver.find_element_by_css_selector('ul.sido_arae_box > li + li + li').click()\n",
    "time.sleep(1)\n",
    "driver.find_element_by_css_selector('ul.gugun_arae_box > li').click()\n"
   ]
  },
  {
   "cell_type": "code",
   "execution_count": 9,
   "metadata": {},
   "outputs": [],
   "source": [
    "soup = bs(driver.page_source, 'html.parser')\n",
    "name = soup.select('#mCSB_3_container > ul > li > strong')\n",
    "addr = soup.select('#mCSB_3_container > ul > li > p')\n",
    "tel = soup.select('#mCSB_3_container > ul > li > p')\n",
    "\n",
    "names = []\n",
    "addrs = []\n",
    "tels = []\n",
    "for i in range(len(name)):\n",
    "    names.append(name[i].text)\n",
    "    addrs.append(addr[i].text[:-12])\n",
    "    tels.append(tel[i].text[-12:])\n",
    "    "
   ]
  },
  {
   "cell_type": "code",
   "execution_count": 10,
   "metadata": {},
   "outputs": [],
   "source": [
    "data = {'name':names, 'addr':addrs, 'tel': tels}"
   ]
  },
  {
   "cell_type": "code",
   "execution_count": 11,
   "metadata": {},
   "outputs": [],
   "source": [
    "import pandas as pd"
   ]
  },
  {
   "cell_type": "code",
   "execution_count": 13,
   "metadata": {},
   "outputs": [
    {
     "data": {
      "text/html": [
       "<div>\n",
       "<style scoped>\n",
       "    .dataframe tbody tr th:only-of-type {\n",
       "        vertical-align: middle;\n",
       "    }\n",
       "\n",
       "    .dataframe tbody tr th {\n",
       "        vertical-align: top;\n",
       "    }\n",
       "\n",
       "    .dataframe thead th {\n",
       "        text-align: right;\n",
       "    }\n",
       "</style>\n",
       "<table border=\"1\" class=\"dataframe\">\n",
       "  <thead>\n",
       "    <tr style=\"text-align: right;\">\n",
       "      <th></th>\n",
       "      <th>name</th>\n",
       "      <th>addr</th>\n",
       "      <th>tel</th>\n",
       "    </tr>\n",
       "  </thead>\n",
       "  <tbody>\n",
       "    <tr>\n",
       "      <th>0</th>\n",
       "      <td>광주운남DT</td>\n",
       "      <td>광주광역시 광산구 임방울대로 156 (운남동)</td>\n",
       "      <td>062-953-3621</td>\n",
       "    </tr>\n",
       "    <tr>\n",
       "      <th>1</th>\n",
       "      <td>광주산정DT</td>\n",
       "      <td>광주광역시 광산구 용아로 342 (산정동)</td>\n",
       "      <td>062-954-3595</td>\n",
       "    </tr>\n",
       "    <tr>\n",
       "      <th>2</th>\n",
       "      <td>광주흑석DT</td>\n",
       "      <td>광주광역시 광산구 사암로 367 (산정동)</td>\n",
       "      <td>062-954-3446</td>\n",
       "    </tr>\n",
       "    <tr>\n",
       "      <th>3</th>\n",
       "      <td>광주송정역</td>\n",
       "      <td>광주광역시 광산구 상무대로205번길 6 (송정동)</td>\n",
       "      <td>062-942-3360</td>\n",
       "    </tr>\n",
       "    <tr>\n",
       "      <th>4</th>\n",
       "      <td>광주수완DT</td>\n",
       "      <td>광주광역시 광산구 임방울대로 487 (수완동)</td>\n",
       "      <td>062-952-3291</td>\n",
       "    </tr>\n",
       "    <tr>\n",
       "      <th>5</th>\n",
       "      <td>광주신가DT</td>\n",
       "      <td>광주광역시 광산구 목련로 335 (신가동)</td>\n",
       "      <td>062-962-6855</td>\n",
       "    </tr>\n",
       "    <tr>\n",
       "      <th>6</th>\n",
       "      <td>광주쌍암</td>\n",
       "      <td>광주광역시 광산구 첨단중앙로 158 (쌍암동)</td>\n",
       "      <td>062-972-9805</td>\n",
       "    </tr>\n",
       "    <tr>\n",
       "      <th>7</th>\n",
       "      <td>광주장덕</td>\n",
       "      <td>광주광역시 광산구 장신로 85 (장덕동)</td>\n",
       "      <td>062-959-8706</td>\n",
       "    </tr>\n",
       "    <tr>\n",
       "      <th>8</th>\n",
       "      <td>광주하남</td>\n",
       "      <td>광주광역시 광산구 사암로216번길 38-16, 1~2층 (우산동)</td>\n",
       "      <td>062-959-8679</td>\n",
       "    </tr>\n",
       "    <tr>\n",
       "      <th>9</th>\n",
       "      <td>광주첨단</td>\n",
       "      <td>광주광역시 광산구 첨단중앙로 104 (월계동)</td>\n",
       "      <td>062-971-8719</td>\n",
       "    </tr>\n",
       "    <tr>\n",
       "      <th>10</th>\n",
       "      <td>광산수완</td>\n",
       "      <td>광주광역시 광산구 장신로 134, 1~2층 (수완동)</td>\n",
       "      <td>062-962-8384</td>\n",
       "    </tr>\n",
       "    <tr>\n",
       "      <th>11</th>\n",
       "      <td>광주봉선로</td>\n",
       "      <td>광주광역시 남구 제석로 104 (봉선동)</td>\n",
       "      <td>062-653-3591</td>\n",
       "    </tr>\n",
       "    <tr>\n",
       "      <th>12</th>\n",
       "      <td>광주서문대로</td>\n",
       "      <td>광주광역시 남구 서문대로 665 (진월동)</td>\n",
       "      <td>062-672-3385</td>\n",
       "    </tr>\n",
       "    <tr>\n",
       "      <th>13</th>\n",
       "      <td>광주방림DT</td>\n",
       "      <td>광주광역시 남구 대남대로 67 (방림동)</td>\n",
       "      <td>062-654-3277</td>\n",
       "    </tr>\n",
       "    <tr>\n",
       "      <th>14</th>\n",
       "      <td>광주봉선중앙</td>\n",
       "      <td>광주광역시 남구 봉선중앙로 51 (봉선동)</td>\n",
       "      <td>062-653-7844</td>\n",
       "    </tr>\n",
       "    <tr>\n",
       "      <th>15</th>\n",
       "      <td>광주진월</td>\n",
       "      <td>광주광역시 남구 서문대로 745 (주월동)</td>\n",
       "      <td>062-675-9556</td>\n",
       "    </tr>\n",
       "    <tr>\n",
       "      <th>16</th>\n",
       "      <td>광주봉선</td>\n",
       "      <td>광주광역시 남구 봉선로 176, 1층 101,111호 (봉선동)</td>\n",
       "      <td>062-651-8363</td>\n",
       "    </tr>\n",
       "    <tr>\n",
       "      <th>17</th>\n",
       "      <td>광주지산유원지입구</td>\n",
       "      <td>광주광역시 동구 무등로 592 (산수동)</td>\n",
       "      <td>062-223-3537</td>\n",
       "    </tr>\n",
       "    <tr>\n",
       "      <th>18</th>\n",
       "      <td>광주황금</td>\n",
       "      <td>광주광역시 동구 중앙로160번길 14 (황금동)</td>\n",
       "      <td>062-233-7854</td>\n",
       "    </tr>\n",
       "    <tr>\n",
       "      <th>19</th>\n",
       "      <td>광주무등산</td>\n",
       "      <td>광주광역시 동구 증심사길 16 (운림동)</td>\n",
       "      <td>062-223-8710</td>\n",
       "    </tr>\n",
       "  </tbody>\n",
       "</table>\n",
       "</div>"
      ],
      "text/plain": [
       "           name                                  addr           tel\n",
       "0      광주운남DT               광주광역시 광산구 임방울대로 156 (운남동)  062-953-3621\n",
       "1      광주산정DT                 광주광역시 광산구 용아로 342 (산정동)  062-954-3595\n",
       "2      광주흑석DT                 광주광역시 광산구 사암로 367 (산정동)  062-954-3446\n",
       "3       광주송정역             광주광역시 광산구 상무대로205번길 6 (송정동)  062-942-3360\n",
       "4      광주수완DT               광주광역시 광산구 임방울대로 487 (수완동)  062-952-3291\n",
       "5      광주신가DT                 광주광역시 광산구 목련로 335 (신가동)  062-962-6855\n",
       "6        광주쌍암               광주광역시 광산구 첨단중앙로 158 (쌍암동)  062-972-9805\n",
       "7        광주장덕                  광주광역시 광산구 장신로 85 (장덕동)  062-959-8706\n",
       "8        광주하남    광주광역시 광산구 사암로216번길 38-16, 1~2층 (우산동)  062-959-8679\n",
       "9        광주첨단               광주광역시 광산구 첨단중앙로 104 (월계동)  062-971-8719\n",
       "10       광산수완           광주광역시 광산구 장신로 134, 1~2층 (수완동)  062-962-8384\n",
       "11      광주봉선로                  광주광역시 남구 제석로 104 (봉선동)  062-653-3591\n",
       "12     광주서문대로                 광주광역시 남구 서문대로 665 (진월동)  062-672-3385\n",
       "13     광주방림DT                  광주광역시 남구 대남대로 67 (방림동)  062-654-3277\n",
       "14     광주봉선중앙                 광주광역시 남구 봉선중앙로 51 (봉선동)  062-653-7844\n",
       "15       광주진월                 광주광역시 남구 서문대로 745 (주월동)  062-675-9556\n",
       "16       광주봉선     광주광역시 남구 봉선로 176, 1층 101,111호 (봉선동)  062-651-8363\n",
       "17  광주지산유원지입구                  광주광역시 동구 무등로 592 (산수동)  062-223-3537\n",
       "18       광주황금              광주광역시 동구 중앙로160번길 14 (황금동)  062-233-7854\n",
       "19      광주무등산                  광주광역시 동구 증심사길 16 (운림동)  062-223-8710"
      ]
     },
     "execution_count": 13,
     "metadata": {},
     "output_type": "execute_result"
    }
   ],
   "source": [
    "df = pd.DataFrame(data)\n",
    "df.head(20)"
   ]
  },
  {
   "cell_type": "code",
   "execution_count": null,
   "metadata": {},
   "outputs": [],
   "source": []
  }
 ],
 "metadata": {
  "kernelspec": {
   "display_name": "Python 3",
   "language": "python",
   "name": "python3"
  },
  "language_info": {
   "codemirror_mode": {
    "name": "ipython",
    "version": 3
   },
   "file_extension": ".py",
   "mimetype": "text/x-python",
   "name": "python",
   "nbconvert_exporter": "python",
   "pygments_lexer": "ipython3",
   "version": "3.7.1"
  }
 },
 "nbformat": 4,
 "nbformat_minor": 2
}
