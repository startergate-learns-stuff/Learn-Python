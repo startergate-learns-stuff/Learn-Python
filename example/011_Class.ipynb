{
 "cells": [
  {
   "cell_type": "code",
   "execution_count": 1,
   "metadata": {},
   "outputs": [],
   "source": [
    "# 클래스 생성\n",
    "\n",
    "class TV:\n",
    "    name = \"\"\n",
    "    color = \"\"\n",
    "    price = 0\n",
    "    \n",
    "    def toString(self):\n",
    "        print(\"이름 %s, 색상 %s, 가격 %d\" %(self.name, self.color, self.price))\n",
    "    \n",
    "    def changeColor(self, c):\n",
    "        self.color = c"
   ]
  },
  {
   "cell_type": "code",
   "execution_count": 3,
   "metadata": {},
   "outputs": [
    {
     "name": "stdout",
     "output_type": "stream",
     "text": [
      "이름 삼성, 색상 블랙, 가격 500\n",
      "이름 삼성, 색상 레드, 가격 500\n"
     ]
    }
   ],
   "source": [
    "# 객체생성\n",
    "tv1 = TV()\n",
    "tv1.name = \"삼성\"\n",
    "tv1.color = \"블랙\"\n",
    "tv1.price = 500\n",
    "tv1.toString()\n",
    "tv1.changeColor(\"레드\")\n",
    "tv1.toString()"
   ]
  },
  {
   "cell_type": "code",
   "execution_count": 4,
   "metadata": {},
   "outputs": [
    {
     "name": "stdout",
     "output_type": "stream",
     "text": [
      "이름 LG, 색상 화이트, 가격 1500\n"
     ]
    }
   ],
   "source": [
    "# 객체생성\n",
    "tv2 = TV()\n",
    "tv2.name = \"LG\"\n",
    "tv2.color=\"화이트\"\n",
    "tv2.price=1500\n",
    "tv2.toString()"
   ]
  }
 ],
 "metadata": {
  "kernelspec": {
   "display_name": "Python 3",
   "language": "python",
   "name": "python3"
  },
  "language_info": {
   "codemirror_mode": {
    "name": "ipython",
    "version": 3
   },
   "file_extension": ".py",
   "mimetype": "text/x-python",
   "name": "python",
   "nbconvert_exporter": "python",
   "pygments_lexer": "ipython3",
   "version": "3.6.5"
  }
 },
 "nbformat": 4,
 "nbformat_minor": 2
}
