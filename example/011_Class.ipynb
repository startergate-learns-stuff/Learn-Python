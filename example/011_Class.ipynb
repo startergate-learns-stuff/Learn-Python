{
 "cells": [
  {
   "cell_type": "code",
   "execution_count": 1,
   "metadata": {},
   "outputs": [],
   "source": [
    "# 클래스 생성\n",
    "\n",
    "class TV:\n",
    "    name = \"\"\n",
    "    color = \"\"\n",
    "    price = 0\n",
    "    \n",
    "    def toString(self):\n",
    "        print(\"이름 %s, 색상 %s, 가격 %d\" %(self.name, self.color, self.price))\n",
    "    \n",
    "    def changeColor(self, c):\n",
    "        self.color = c"
   ]
  },
  {
   "cell_type": "code",
   "execution_count": 2,
   "metadata": {},
   "outputs": [
    {
     "name": "stdout",
     "output_type": "stream",
     "text": [
      "이름 삼성, 색상 블랙, 가격 500\n",
      "이름 삼성, 색상 레드, 가격 500\n"
     ]
    }
   ],
   "source": [
    "# 객체생성\n",
    "tv1 = TV()\n",
    "tv1.name = \"삼성\"\n",
    "tv1.color = \"블랙\"\n",
    "tv1.price = 500\n",
    "tv1.toString()\n",
    "tv1.changeColor(\"레드\")\n",
    "tv1.toString()"
   ]
  },
  {
   "cell_type": "code",
   "execution_count": 3,
   "metadata": {},
   "outputs": [
    {
     "name": "stdout",
     "output_type": "stream",
     "text": [
      "이름 LG, 색상 화이트, 가격 1500\n"
     ]
    }
   ],
   "source": [
    "# 객체생성\n",
    "tv2 = TV()\n",
    "tv2.name = \"LG\"\n",
    "tv2.color=\"화이트\"\n",
    "tv2.price=1500\n",
    "tv2.toString()"
   ]
  },
  {
   "cell_type": "code",
   "execution_count": 4,
   "metadata": {},
   "outputs": [
    {
     "data": {
      "text/plain": [
       "['__class__',\n",
       " '__delattr__',\n",
       " '__dict__',\n",
       " '__dir__',\n",
       " '__doc__',\n",
       " '__eq__',\n",
       " '__format__',\n",
       " '__ge__',\n",
       " '__getattribute__',\n",
       " '__gt__',\n",
       " '__hash__',\n",
       " '__init__',\n",
       " '__init_subclass__',\n",
       " '__le__',\n",
       " '__lt__',\n",
       " '__module__',\n",
       " '__ne__',\n",
       " '__new__',\n",
       " '__reduce__',\n",
       " '__reduce_ex__',\n",
       " '__repr__',\n",
       " '__setattr__',\n",
       " '__sizeof__',\n",
       " '__str__',\n",
       " '__subclasshook__',\n",
       " '__weakref__',\n",
       " 'changeColor',\n",
       " 'color',\n",
       " 'name',\n",
       " 'price',\n",
       " 'toString']"
      ]
     },
     "execution_count": 4,
     "metadata": {},
     "output_type": "execute_result"
    }
   ],
   "source": [
    "dir(tv2)"
   ]
  },
  {
   "cell_type": "code",
   "execution_count": null,
   "metadata": {},
   "outputs": [],
   "source": []
  }
 ],
 "metadata": {
  "kernelspec": {
   "display_name": "Python 3",
   "language": "python",
   "name": "python3"
  },
  "language_info": {
   "codemirror_mode": {
    "name": "ipython",
    "version": 3
   },
   "file_extension": ".py",
   "mimetype": "text/x-python",
   "name": "python",
   "nbconvert_exporter": "python",
   "pygments_lexer": "ipython3",
   "version": "3.7.1"
  }
 },
 "nbformat": 4,
 "nbformat_minor": 2
}
