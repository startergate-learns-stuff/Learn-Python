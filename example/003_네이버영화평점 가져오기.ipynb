{
 "cells": [
  {
   "cell_type": "code",
   "execution_count": 3,
   "metadata": {
    "scrolled": true
   },
   "outputs": [],
   "source": [
    "from bs4 import BeautifulSoup as bs\n",
    "import pandas as pd\n",
    "import requests as req\n",
    "import matplotlib.pyplot as plt\n",
    "%matplotlib inline\n",
    "#from tqdm import tqdm_notebook"
   ]
  },
  {
   "cell_type": "code",
   "execution_count": 4,
   "metadata": {},
   "outputs": [],
   "source": [
    "# 영화페이지 url\n",
    "\n",
    "url_main = 'https://movie.naver.com'\n",
    "url_sub = '/movie/bi/mi/point.nhn?code=156464'\n",
    "res = req.get(url_main + url_sub)\n",
    "soup = bs(res.text,'html.parser')\n"
   ]
  },
  {
   "cell_type": "code",
   "execution_count": 5,
   "metadata": {},
   "outputs": [
    {
     "data": {
      "text/plain": [
       "<iframe class=\"ifr\" frameborder=\"0\" id=\"pointAfterListIframe\" name=\"pointAfterListIframe\" scrolling=\"no\" src=\"/movie/bi/mi/pointWriteFormList.nhn?code=156464&amp;type=after&amp;isActualPointWriteExecute=false&amp;isMileageSubscriptionAlready=false&amp;isMileageSubscriptionReject=false\" title=\"네티즌 평점 리스트\" width=\"100%\"></iframe>"
      ]
     },
     "execution_count": 5,
     "metadata": {},
     "output_type": "execute_result"
    }
   ],
   "source": [
    "iframeTag = soup.find('iframe',id='pointAfterListIframe')\n",
    "iframeTag"
   ]
  },
  {
   "cell_type": "code",
   "execution_count": 4,
   "metadata": {},
   "outputs": [
    {
     "data": {
      "text/plain": [
       "{'class': ['ifr'],\n",
       " 'frameborder': '0',\n",
       " 'id': 'pointAfterListIframe',\n",
       " 'name': 'pointAfterListIframe',\n",
       " 'scrolling': 'no',\n",
       " 'src': '/movie/bi/mi/pointWriteFormList.nhn?code=156464&type=after&isActualPointWriteExecute=false&isMileageSubscriptionAlready=false&isMileageSubscriptionReject=false',\n",
       " 'title': '네티즌 평점 리스트',\n",
       " 'width': '100%'}"
      ]
     },
     "execution_count": 4,
     "metadata": {},
     "output_type": "execute_result"
    }
   ],
   "source": [
    "iframeTag.attrs #속성을 딕셔너리 형태로 보기"
   ]
  },
  {
   "cell_type": "code",
   "execution_count": 8,
   "metadata": {},
   "outputs": [
    {
     "data": {
      "text/plain": [
       "'/movie/bi/mi/pointWriteFormList.nhn?code=156464&type=after&isActualPointWriteExecute=false&isMileageSubscriptionAlready=false&isMileageSubscriptionReject=false'"
      ]
     },
     "execution_count": 8,
     "metadata": {},
     "output_type": "execute_result"
    }
   ],
   "source": [
    "iframeTag.attrs['src']"
   ]
  },
  {
   "cell_type": "code",
   "execution_count": 9,
   "metadata": {},
   "outputs": [],
   "source": [
    "iframeSrc = iframeTag['src'] #attrs 생략가능"
   ]
  },
  {
   "cell_type": "code",
   "execution_count": 10,
   "metadata": {},
   "outputs": [
    {
     "data": {
      "text/plain": [
       "<Response [200]>"
      ]
     },
     "execution_count": 10,
     "metadata": {},
     "output_type": "execute_result"
    }
   ],
   "source": [
    "res = req.get(url_main+iframeSrc)\n",
    "res"
   ]
  },
  {
   "cell_type": "code",
   "execution_count": 11,
   "metadata": {},
   "outputs": [],
   "source": [
    "soup = bs(res.text,'html.parser')"
   ]
  },
  {
   "cell_type": "code",
   "execution_count": 18,
   "metadata": {
    "scrolled": true
   },
   "outputs": [
    {
     "name": "stdout",
     "output_type": "stream",
     "text": [
      "[<p>살아생전 못가본 퀸 콘서트에 갔다왔습니다.  </p>, <p>브라이언메이 싱크로율 말이되냐  </p>, <p>슬픈장면은 없는데 눈물 나는 영화 ㅠㅜ  </p>, <p>그 시절 영국에는 두명의 여왕이 있었다  </p>, <p>브라이언 메이는 본인을 데려오신건가요?  </p>, <p>마이클잭슨도 영화화되었으면...  </p>, <p>나는 스타가 되지 않겠다, 전설이 될 것이다. - 프레디 머큐리  </p>, <p>오프닝 20세기폭스 나올때 기타변주부터 소름돋은 사람 공감 ㄱ  </p>, <p>폭스 로고송 부터 귀를 뗄수없는...  </p>, <p>다들 영화보고 돌아가는 길에 퀸 노래를 틀었겠지..  </p>] 10\n"
     ]
    }
   ],
   "source": [
    "review = soup.select('div.score_reple > p')\n",
    "print(review , len(review))\n"
   ]
  },
  {
   "cell_type": "code",
   "execution_count": 13,
   "metadata": {},
   "outputs": [
    {
     "name": "stdout",
     "output_type": "stream",
     "text": [
      "[<span class=\"sympathy_14794914 count\">12187</span>, <span class=\"sympathy_14794893 count\">8101</span>, <span class=\"sympathy_14795376 count\">6959</span>, <span class=\"sympathy_14794534 count\">6510</span>, <span class=\"sympathy_14795371 count\">5218</span>, <span class=\"sympathy_14794710 count\">4695</span>, <span class=\"sympathy_14794536 count\">4531</span>, <span class=\"sympathy_14804064 count\">4518</span>, <span class=\"sympathy_14794929 count\">4321</span>, <span class=\"sympathy_14802147 count\">3704</span>] 10\n"
     ]
    }
   ],
   "source": [
    "# 공감 버튼 수, 비공감 버튼 수\n",
    "good = soup.select('a._sympathyButton + strong > span') # 공감 버튼(_sympathyButton)의 형제(+) 스트롱의 자손(>) 선택\n",
    "print(good, len(good))\n",
    "bad = soup.select('a._notSympathyButton + strong > span')# 비공감 버튼(_notSympathyButton)의 형제(+) 스트롱의 자손(>) 선택"
   ]
  },
  {
   "cell_type": "code",
   "execution_count": 14,
   "metadata": {},
   "outputs": [],
   "source": [
    "def review_and_good_bad():\n",
    "    for index in range (len(review)):\n",
    "        print(review[index].text)\n",
    "        print('공감 :' ,good[index].text)\n",
    "        print('비공감 :' ,bad[index].text)\n",
    "        print('---------------------------------------------------------------')\n"
   ]
  },
  {
   "cell_type": "code",
   "execution_count": 28,
   "metadata": {},
   "outputs": [],
   "source": [
    "def save_review(file):\n",
    "    f = open(str(file), \"w\")\n",
    "    for index in range(len(review)):\n",
    "        f.write(review[index].text)\n",
    "        f.write(good[index].text)\n",
    "        f.write('\\n')"
   ]
  },
  {
   "cell_type": "code",
   "execution_count": 15,
   "metadata": {
    "scrolled": true
   },
   "outputs": [
    {
     "name": "stdout",
     "output_type": "stream",
     "text": [
      "살아생전 못가본 퀸 콘서트에 갔다왔습니다.  \n",
      "공감 : 12187\n",
      "비공감 : 348\n",
      "---------------------------------------------------------------\n",
      "브라이언메이 싱크로율 말이되냐  \n",
      "공감 : 8101\n",
      "비공감 : 277\n",
      "---------------------------------------------------------------\n",
      "슬픈장면은 없는데 눈물 나는 영화 ㅠㅜ  \n",
      "공감 : 6959\n",
      "비공감 : 187\n",
      "---------------------------------------------------------------\n",
      "그 시절 영국에는 두명의 여왕이 있었다  \n",
      "공감 : 6510\n",
      "비공감 : 297\n",
      "---------------------------------------------------------------\n",
      "브라이언 메이는 본인을 데려오신건가요?  \n",
      "공감 : 5218\n",
      "비공감 : 141\n",
      "---------------------------------------------------------------\n",
      "마이클잭슨도 영화화되었으면...  \n",
      "공감 : 4695\n",
      "비공감 : 297\n",
      "---------------------------------------------------------------\n",
      "나는 스타가 되지 않겠다, 전설이 될 것이다. - 프레디 머큐리  \n",
      "공감 : 4531\n",
      "비공감 : 134\n",
      "---------------------------------------------------------------\n",
      "오프닝 20세기폭스 나올때 기타변주부터 소름돋은 사람 공감 ㄱ  \n",
      "공감 : 4518\n",
      "비공감 : 126\n",
      "---------------------------------------------------------------\n",
      "폭스 로고송 부터 귀를 뗄수없는...  \n",
      "공감 : 4321\n",
      "비공감 : 136\n",
      "---------------------------------------------------------------\n",
      "다들 영화보고 돌아가는 길에 퀸 노래를 틀었겠지..  \n",
      "공감 : 3704\n",
      "비공감 : 70\n",
      "---------------------------------------------------------------\n"
     ]
    }
   ],
   "source": [
    "review_and_good_bad()"
   ]
  },
  {
   "cell_type": "code",
   "execution_count": 29,
   "metadata": {},
   "outputs": [],
   "source": [
    "save_review(\"movie_review.txt\")"
   ]
  },
  {
   "cell_type": "code",
   "execution_count": 12,
   "metadata": {
    "collapsed": true
   },
   "outputs": [],
   "source": [
    "#모든 리뷰 파일에 저장하기"
   ]
  },
  {
   "cell_type": "code",
   "execution_count": 16,
   "metadata": {},
   "outputs": [
    {
     "name": "stdout",
     "output_type": "stream",
     "text": [
      "https://movie.naver.com/movie/bi/mi/pointWriteFormList.nhn?code=156464&type=after&isActualPointWriteExecute=false&isMileageSubscriptionAlready=false&isMileageSubscriptionReject=false&page10\n",
      "3646\n"
     ]
    },
    {
     "ename": "NameError",
     "evalue": "name 'tqdm_notebook' is not defined",
     "output_type": "error",
     "traceback": [
      "\u001b[1;31m---------------------------------------------------------------------------\u001b[0m",
      "\u001b[1;31mNameError\u001b[0m                                 Traceback (most recent call last)",
      "\u001b[1;32m<ipython-input-16-1f1295c38efe>\u001b[0m in \u001b[0;36m<module>\u001b[1;34m()\u001b[0m\n\u001b[0;32m     22\u001b[0m \u001b[1;33m\u001b[0m\u001b[0m\n\u001b[0;32m     23\u001b[0m \u001b[0mf\u001b[0m \u001b[1;33m=\u001b[0m \u001b[0mopen\u001b[0m\u001b[1;33m(\u001b[0m\u001b[1;34m'naver_movie_reple.txt'\u001b[0m\u001b[1;33m,\u001b[0m\u001b[1;34m'w'\u001b[0m\u001b[1;33m)\u001b[0m\u001b[1;33m\u001b[0m\u001b[0m\n\u001b[1;32m---> 24\u001b[1;33m \u001b[1;32mfor\u001b[0m \u001b[0mi\u001b[0m \u001b[1;32min\u001b[0m \u001b[0mtqdm_notebook\u001b[0m\u001b[1;33m(\u001b[0m\u001b[0mrange\u001b[0m\u001b[1;33m(\u001b[0m\u001b[1;36m1\u001b[0m\u001b[1;33m,\u001b[0m\u001b[0mpageNum\u001b[0m\u001b[1;33m+\u001b[0m\u001b[1;36m1\u001b[0m\u001b[1;33m)\u001b[0m\u001b[1;33m)\u001b[0m\u001b[1;33m:\u001b[0m\u001b[1;33m\u001b[0m\u001b[0m\n\u001b[0m\u001b[0;32m     25\u001b[0m     \u001b[0murl\u001b[0m \u001b[1;33m=\u001b[0m \u001b[0murl_main\u001b[0m \u001b[1;33m+\u001b[0m \u001b[0miframeSrc\u001b[0m\u001b[1;33m+\u001b[0m\u001b[1;34m'&page='\u001b[0m\u001b[1;33m+\u001b[0m\u001b[0mstr\u001b[0m\u001b[1;33m(\u001b[0m\u001b[0mi\u001b[0m\u001b[1;33m)\u001b[0m\u001b[1;33m\u001b[0m\u001b[0m\n\u001b[0;32m     26\u001b[0m     \u001b[0mres\u001b[0m \u001b[1;33m=\u001b[0m \u001b[0mreq\u001b[0m\u001b[1;33m.\u001b[0m\u001b[0mget\u001b[0m\u001b[1;33m(\u001b[0m\u001b[0murl\u001b[0m\u001b[1;33m)\u001b[0m\u001b[1;33m\u001b[0m\u001b[0m\n",
      "\u001b[1;31mNameError\u001b[0m: name 'tqdm_notebook' is not defined"
     ]
    }
   ],
   "source": [
    "url_main = 'https://movie.naver.com'\n",
    "url_sub = '/movie/bi/mi/point.nhn?code=156464'\n",
    "res = req.get(url_main + url_sub)\n",
    "soup = bs(res.text,'html.parser')\n",
    "iframeTag = soup.find('iframe',id='pointAfterListIframe')\n",
    "iframeSrc = iframeTag['src']\n",
    "\n",
    "res = req.get(url_main+iframeSrc)\n",
    "res\n",
    "soup = bs(res.text,'html.parser')\n",
    "\n",
    "print(url_main+iframeSrc+'&page10')\n",
    "\n",
    "totalReple = soup.select_one('span.sp + em')\n",
    "\n",
    "totalReple = int(totalReple.text.replace(',',''))\n",
    "\n",
    "pageNum = totalReple//10\n",
    "if totalReple%10!=0:\n",
    "    pageNum+=1\n",
    "print(pageNum)\n",
    "\n",
    "f = open('naver_movie_reple.txt','w')\n",
    "for i in tqdm_notebook(range(1,pageNum+1)):\n",
    "    url = url_main + iframeSrc+'&page='+str(i)\n",
    "    res = req.get(url)\n",
    "    soup = bs(res.text,'html.parser')\n",
    "    review = soup.select('div.score_reple > p')\n",
    "    \n",
    "    for index in range(len(review)):\n",
    "        f.write(review[index].text)"
   ]
  },
  {
   "cell_type": "code",
   "execution_count": null,
   "metadata": {
    "collapsed": true
   },
   "outputs": [],
   "source": []
  }
 ],
 "metadata": {
  "kernelspec": {
   "display_name": "Python 3",
   "language": "python",
   "name": "python3"
  },
  "language_info": {
   "codemirror_mode": {
    "name": "ipython",
    "version": 3
   },
   "file_extension": ".py",
   "mimetype": "text/x-python",
   "name": "python",
   "nbconvert_exporter": "python",
   "pygments_lexer": "ipython3",
   "version": "3.7.1"
  }
 },
 "nbformat": 4,
 "nbformat_minor": 2
}
