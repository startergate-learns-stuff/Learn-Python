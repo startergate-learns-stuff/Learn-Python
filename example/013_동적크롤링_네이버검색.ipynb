{
 "cells": [
  {
   "cell_type": "markdown",
   "metadata": {},
   "source": [
    "## 웹페이지 동적 크롤링\n",
    "- selenium 패키지 필요"
   ]
  },
  {
   "cell_type": "markdown",
   "metadata": {},
   "source": [
    "## 모듈 설치"
   ]
  },
  {
   "cell_type": "code",
   "execution_count": null,
   "metadata": {
    "scrolled": false
   },
   "outputs": [],
   "source": [
    "#!pip install selenium"
   ]
  },
  {
   "cell_type": "code",
   "execution_count": null,
   "metadata": {},
   "outputs": [],
   "source": [
    "#크롤러와 웹 페이지를 연결 시켜주는 드라이버 다운을 받아야함.\n",
    "# http://chromedriver.chromium.org/downloads"
   ]
  },
  {
   "cell_type": "markdown",
   "metadata": {},
   "source": [
    "## 모듈 임포트"
   ]
  },
  {
   "cell_type": "code",
   "execution_count": 17,
   "metadata": {},
   "outputs": [],
   "source": [
    "from selenium import webdriver as wb\n",
    "from selenium.webdriver.common.keys import Keys\n",
    "from bs4 import BeautifulSoup as bs\n",
    "import time"
   ]
  },
  {
   "cell_type": "markdown",
   "metadata": {},
   "source": [
    "## 웹브라우저 객체 생성"
   ]
  },
  {
   "cell_type": "code",
   "execution_count": 18,
   "metadata": {},
   "outputs": [],
   "source": [
    "#웹브라우저 연결 크롬 드라이버 절대경로\n",
    "driver = wb.Chrome()"
   ]
  },
  {
   "cell_type": "markdown",
   "metadata": {},
   "source": [
    "## 웹 페이지 열기"
   ]
  },
  {
   "cell_type": "code",
   "execution_count": 24,
   "metadata": {},
   "outputs": [],
   "source": [
    "url = 'http://www.naver.com'\n",
    "driver.get(url)"
   ]
  },
  {
   "cell_type": "markdown",
   "metadata": {},
   "source": [
    "## 검색에 입력, 실행"
   ]
  },
  {
   "cell_type": "code",
   "execution_count": 25,
   "metadata": {},
   "outputs": [],
   "source": [
    "#id로 element (요소)검색\n",
    "input_search = driver.find_element_by_id('query')\n",
    "input_search.send_keys(\"광주날씨\")"
   ]
  },
  {
   "cell_type": "code",
   "execution_count": 21,
   "metadata": {},
   "outputs": [],
   "source": [
    "#엔터를 눌러서 검색을 하는 경우\n",
    "input_search.send_keys(Keys.ENTER)"
   ]
  },
  {
   "cell_type": "code",
   "execution_count": 26,
   "metadata": {},
   "outputs": [],
   "source": [
    "#마우스로 눌러서 검색을 하는 경우\n",
    "driver.find_element_by_css_selector('#search_btn > span.ico_search_submit').click() #클릭요소\n",
    "#driver.find_element_by_css_selector().submit() :submit 요소"
   ]
  },
  {
   "cell_type": "markdown",
   "metadata": {
    "collapsed": true
   },
   "source": [
    "## 뉴스 검색하기"
   ]
  },
  {
   "cell_type": "code",
   "execution_count": 27,
   "metadata": {},
   "outputs": [],
   "source": [
    "driver = wb.Chrome()\n",
    "url = \"https://news.naver.com/main/read.nhn?mode=LS2D&mid=shm&sid1=101&sid2=259&oid=417&aid=0000364239\"\n",
    "driver.get(url)"
   ]
  },
  {
   "cell_type": "code",
   "execution_count": 28,
   "metadata": {},
   "outputs": [
    {
     "name": "stdout",
     "output_type": "stream",
     "text": [
      "제목: \"믿을 건 집밖에\"… 노년층 보유자산 '주택'이 75% 차지\n",
      "내용: // flash 오류를 우회하기 위한 함수 추가\n",
      "function _flash_removeCallback() {}\n",
      "\n",
      "/사진=이미지투데이만 60~84세 노년층의 보유자산 중 주택이 차지하는 비중이 75%에 달하는 것으로 조사됐다. 노령층이 선호하는 보유자산 중 부동산의 인기는 여전히 높은 것으로 나타났다. 한국주택금융공사가 18일 발표한 ‘주택연금 수요실태조사’를 보면 60~84세 일반노년가구의 평균 총 자산 규모는 4억2235만원으로 나타났다. 이 가운데 주택은 3억1706만원으로 75.1%를 차지했다. 주택 외 부동산은 4514만원으로 10.7%였고 금융자산이 5677만원으로 13.4%의 비중을 나타냈다. 55~59세 예비노년가구의 보유자산은 평균 5억4003만원으로 주택이 4억61만원(74.2%), 주택 외 부동산 5436만원(10.1%), 금융자산 7670만원(14.2%)으로 나타났다.2년차 주택연금이용가구는 보유자산이 더 적고 주택이 자산에서 차지하는 비중이 높았다. 이들의 보유자산은 평균 3억5081만원으로 주택이 3억2313만원(92.1%)에 달했다. 주택외 부동산이 1180만원(3.4%), 금융자산이 1576만원(4.5%)으로 집계됐다.지역별로 서울 일반노년가구의 총 보유자산이 6억8859만원으로 가장 많고 주택비중 역시 85.2%로 높았다. 경기지역은 5억239만원, 광역시는 3억8305만원, 지방도시는 2억7455만원 순이다. 주택가격에 따라 자산 규모의 차이를 보인 것으로 풀이된다.고령층의 은퇴준비율은 전년보다 하락했다. 60~84세 일반노년가구 중 비은퇴가구의 은퇴준비율(은퇴준비 응답)은 51.3%로 지난해보다 3.1%포인트 감소했다. 55~59세 예비노년가구 중 비은퇴가구의 은퇴준비율은 9.3%포인트 하락한 53.9%, 60~84세 일반노년가구 중 은퇴가구의 은퇴준비율은 49.3%로 전년과 비슷했다.자녀로부터 경제적 도움을 받는 일반노년가구는 22.5%로 연령이 높아지면서 그 비율이 증가하는 추세를 보였다. 80세 이상 노년가구는 절반 이상인 58.7%가 자녀의 경제적 도움으로 생활하고 있다.일반 노년가구의 주요 수입원은 근로사업소득(51.6%)과 공적 연금 소득 위주로 구성된 연금 소득(30.4%)이다. 다만 2년차 주택연금이용가구는 주택연금을 포함한 연금 소득의 비중이 85.4%로 전체 수입의 대부분을 차지했다.또한 60~84세 일반노년가구의 보유주택 채무보유율(임대보증금 및 주택담보대출)은 21.0%였으며, 연령대 낮을수록 채무보유율이 높았다. 또 9억원 이상의 주택을 보유하고 있는 가구 중 50.9%가 채무가 있다고 답했다.채무가 있다고 답한 가구의 평균 채무금액은 9828만원으로 보유주택 가격의 25.2% 수준이다. 일반노년가구의 28.5%는 보유주택을 자녀에게 상속할 의향이 없는 것으로 나타났다. 이같은 비상속 의향은 2008년 12.7% 이후 지속 상승세다.한편 주택연금 이용가구의 타인 추천의향에 대한 조사에서는 전년대비 6.9%포인트 상승한 71.2%가 주택연금을 추천할 의향이 있다고 응답했다. 아울러 자녀가 있는 2년차 주택연금이용가구 중 78.8%는 주택연금을 이용하는 것에 자녀들이 긍정적으로 생각한다고 답했다.이번 조사는 지난 7월18일부터 9월5일까지 주택을 소유한 만 55~84세의 일반노년 3000가구와 주택연금을 이용 중인 1200가구를 대상으로 이뤄졌다.이남의 기자 namy85@mt.co.kr<저작권자 ⓒ '성공을 꿈꾸는 사람들의 경제 뉴스' 머니S, 무단전재 및 재배포 금지>▶ 고수들의 재테크 비법 ▶ 박학다식 '이건희칼럼'\n"
     ]
    }
   ],
   "source": [
    "driver.page_source #(res.text 대신에 사용  soup 에 입력)\n",
    "soup = bs(driver.page_source,'html.parser')\n",
    "newsTitle1 = soup.find('h3',id='articleTitle').text\n",
    "newsTitle2 = soup.select('div.article_info > h3')[0].text #선택자로 가져오고 싶을때 여러개라 리스트형 find_all 과 같이 리스트 형이다.\n",
    "#newsTitle2 = soup.select_one('div.article_info > h3').text #선택자형식이지만 하나만 가져오고 싶을때 _one 를 사용한다.뒤에도 인덱스 지정x \n",
    "newsContents = soup.find('div',id='articleBodyContents').text\n",
    "\n",
    "print('제목:',newsTitle2)\n",
    "time.sleep(3)\n",
    "print('내용:',newsContents.strip()) "
   ]
  },
  {
   "cell_type": "markdown",
   "metadata": {},
   "source": [
    "### 저장하기"
   ]
  },
  {
   "cell_type": "code",
   "execution_count": 29,
   "metadata": {},
   "outputs": [],
   "source": [
    "import codecs\n",
    "\n",
    "f=codecs.open('data/news.txt', 'w', encoding='utf-8')\n",
    "f.write(newsContents.strip())\n",
    "f.close()"
   ]
  },
  {
   "cell_type": "code",
   "execution_count": null,
   "metadata": {},
   "outputs": [],
   "source": []
  }
 ],
 "metadata": {
  "kernelspec": {
   "display_name": "Python 3",
   "language": "python",
   "name": "python3"
  },
  "language_info": {
   "codemirror_mode": {
    "name": "ipython",
    "version": 3
   },
   "file_extension": ".py",
   "mimetype": "text/x-python",
   "name": "python",
   "nbconvert_exporter": "python",
   "pygments_lexer": "ipython3",
   "version": "3.7.1"
  }
 },
 "nbformat": 4,
 "nbformat_minor": 2
}
