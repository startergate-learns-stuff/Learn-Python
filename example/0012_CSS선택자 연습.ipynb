{
 "cells": [
  {
   "cell_type": "markdown",
   "metadata": {},
   "source": [
    "## CSS 선택자\n",
    "\n",
    "1. 선택자 기본서식\n",
    "    - <요소이름> : 요소 이름을 기반으로 선택\n",
    "    - .<클래스이름> : 클래스 이름을 기반으로 선택\n",
    "    - # <id 이름> : id 속성을 기반으로 선택\n",
    "\n",
    "2. 선택자들의 관계를 지정하는 서식\n",
    "    - <선택자>,<선택자>  : 쉼표로 구분된 여러 개의 선택자를 모두 선택\n",
    "    - <선택자> <선택자> : 앞 선택자의 후손 중 뒤 선택자에 해당하는 것을 모두 선택\n",
    "    - <선택자> > <선택자> : 앞 선택자의 후손 중 뒤 선택자에 해당하는 것을 모두 선택\n",
    "\n",
    "3. 선택자 속성을 기반으로 지정하는 서식\n",
    "    - <요소>[<속성>] : 해당 속성을 가진 요소를 선택\n",
    "    - <요소>[<속성<=<값>] : 해당 속성의 값이 지정한 값과 같은 요소를 선택\n",
    "    \n",
    "4. 위치를 지정하는 서식\n",
    "    - <요소>:nth-of-type(n) : 요소의 n번째 자식 요소"
   ]
  },
  {
   "cell_type": "code",
   "execution_count": 1,
   "metadata": {},
   "outputs": [],
   "source": [
    "from bs4 import BeautifulSoup"
   ]
  },
  {
   "cell_type": "code",
   "execution_count": 2,
   "metadata": {},
   "outputs": [],
   "source": [
    "html=\"\"\"\n",
    "<ul id='bible'>\n",
    "  <li id=\"ge\">Genesis</li>\n",
    "  <li id=\"ex\">Exodus</li>\n",
    "  <li id=\"le\">Leviticus</li>\n",
    "  <li id=\"nu\">Numbers</li>\n",
    "  <li id=\"de\">Deuteronomy</li>\n",
    "\"\"\""
   ]
  },
  {
   "cell_type": "code",
   "execution_count": 3,
   "metadata": {},
   "outputs": [],
   "source": [
    "soup = BeautifulSoup(html, 'html.parser')"
   ]
  },
  {
   "cell_type": "code",
   "execution_count": 4,
   "metadata": {},
   "outputs": [],
   "source": [
    "css_list=[\"#nu\",\"li#nu\",\"ul > li#nu\", \"#bible #nu\", \"ul#bible > li#nu\", \"li[id='nu']\" ,\"li:nth-of-type(4)\"]"
   ]
  },
  {
   "cell_type": "code",
   "execution_count": 5,
   "metadata": {
    "scrolled": true
   },
   "outputs": [
    {
     "name": "stdout",
     "output_type": "stream",
     "text": [
      "Numbers\n",
      "Numbers\n",
      "Numbers\n",
      "Numbers\n",
      "Numbers\n",
      "Numbers\n",
      "Numbers\n"
     ]
    }
   ],
   "source": [
    "for css in css_list:\n",
    "    result = soup.select_one(css).text\n",
    "    print(result)"
   ]
  },
  {
   "cell_type": "code",
   "execution_count": 6,
   "metadata": {},
   "outputs": [],
   "source": [
    "html2=\"\"\"\n",
    "<html>\n",
    "<body>\n",
    "<div id=\"main-goods\" role=\"page\">\n",
    "  <h1>과일과 야채</h1>\n",
    "  <ul id=\"fr-list\">\n",
    "    <li class=\"red green\" data-lo=\"ko\">사과</li>\n",
    "    <li class=\"purple\" data-lo=\"us\">포도</li>\n",
    "    <li class=\"yellow\" data-lo=\"us\">레몬</li>\n",
    "    <li class=\"yellow\" data-lo=\"ko\">오렌지</li>\n",
    "  </ul>\n",
    "  <ul id=\"ve-list\">\n",
    "    <li class=\"white green\" data-lo=\"ko\">무</li>\n",
    "    <li class=\"red green\" data-lo=\"us\">파프리카</li>\n",
    "    <li class=\"black\" data-lo=\"ko\">가지</li>\n",
    "    <li class=\"black\" data-lo=\"us\">아보카도</li>\n",
    "    <li class=\"white\" data-lo=\"cn\">연근</li>\n",
    "  </ul>\n",
    "</div>\n",
    "</body>\n",
    "</html>\n",
    "\"\"\""
   ]
  },
  {
   "cell_type": "code",
   "execution_count": 7,
   "metadata": {},
   "outputs": [],
   "source": [
    "soup = BeautifulSoup(html2, 'html.parser')"
   ]
  },
  {
   "cell_type": "code",
   "execution_count": 28,
   "metadata": {},
   "outputs": [
    {
     "name": "stdout",
     "output_type": "stream",
     "text": [
      "[<li class=\"white green\" data-lo=\"ko\">무</li>]\n"
     ]
    }
   ],
   "source": [
    "# CSS 선택자로 아보카도 출력하기\n",
    "# soup.select_one('#ve-list > li.black[data-lo=us]')\n",
    "print(soup.select('#ve-list > li:nth-of-type(4)'))"
   ]
  },
  {
   "cell_type": "code",
   "execution_count": 29,
   "metadata": {},
   "outputs": [
    {
     "name": "stdout",
     "output_type": "stream",
     "text": [
      "아보카도\n"
     ]
    }
   ],
   "source": [
    "# find 메서드로 출력하기\n",
    "condition ={ 'data-lo':\"us\", \"class\" : \"black\"}\n",
    "print(soup.find(\"li\", condition).text)"
   ]
  },
  {
   "cell_type": "code",
   "execution_count": 30,
   "metadata": {},
   "outputs": [
    {
     "name": "stdout",
     "output_type": "stream",
     "text": [
      "아보카도\n"
     ]
    }
   ],
   "source": [
    "print(soup.find(id=\"ve-list\").find(\"li\", condition).text)"
   ]
  }
 ],
 "metadata": {
  "kernelspec": {
   "display_name": "Python 3",
   "language": "python",
   "name": "python3"
  },
  "language_info": {
   "codemirror_mode": {
    "name": "ipython",
    "version": 3
   },
   "file_extension": ".py",
   "mimetype": "text/x-python",
   "name": "python",
   "nbconvert_exporter": "python",
   "pygments_lexer": "ipython3",
   "version": "3.7.1"
  }
 },
 "nbformat": 4,
 "nbformat_minor": 2
}
