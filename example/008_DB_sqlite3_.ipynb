{
 "cells": [
  {
   "cell_type": "markdown",
   "metadata": {},
   "source": [
    "### 1. 모듈 임포트"
   ]
  },
  {
   "cell_type": "code",
   "execution_count": 1,
   "metadata": {},
   "outputs": [],
   "source": [
    "import sqlite3"
   ]
  },
  {
   "cell_type": "markdown",
   "metadata": {},
   "source": [
    "### 2. DB 연결"
   ]
  },
  {
   "cell_type": "code",
   "execution_count": 2,
   "metadata": {},
   "outputs": [],
   "source": [
    "conn = sqlite3.connect('py.sqlite') \n",
    "cur = conn.cursor()"
   ]
  },
  {
   "cell_type": "code",
   "execution_count": 3,
   "metadata": {},
   "outputs": [
    {
     "data": {
      "text/plain": [
       "sqlite3.Cursor"
      ]
     },
     "execution_count": 3,
     "metadata": {},
     "output_type": "execute_result"
    }
   ],
   "source": [
    "type(cur)"
   ]
  },
  {
   "cell_type": "markdown",
   "metadata": {},
   "source": [
    "### 3. 기존 테이블 삭제시"
   ]
  },
  {
   "cell_type": "code",
   "execution_count": 15,
   "metadata": {},
   "outputs": [
    {
     "data": {
      "text/plain": [
       "<sqlite3.Cursor at 0x1981af488f0>"
      ]
     },
     "execution_count": 15,
     "metadata": {},
     "output_type": "execute_result"
    }
   ],
   "source": [
    "cur.execute('DROP TABLE IF EXISTS Counts')"
   ]
  },
  {
   "cell_type": "markdown",
   "metadata": {},
   "source": [
    "### 4. 테이블 생성"
   ]
  },
  {
   "cell_type": "code",
   "execution_count": 16,
   "metadata": {},
   "outputs": [
    {
     "data": {
      "text/plain": [
       "<sqlite3.Cursor at 0x1981af488f0>"
      ]
     },
     "execution_count": 16,
     "metadata": {},
     "output_type": "execute_result"
    }
   ],
   "source": [
    "cur.execute('CREATE TABLE Counts (id INTEGER PRIMARY KEY AUTOINCREMENT UNIQUE, email TEXT, count INTEGER)')"
   ]
  },
  {
   "cell_type": "code",
   "execution_count": 17,
   "metadata": {},
   "outputs": [
    {
     "name": "stdout",
     "output_type": "stream",
     "text": [
      "Enter file name:\n"
     ]
    }
   ],
   "source": [
    "fname = input('Enter file name:')"
   ]
  },
  {
   "cell_type": "code",
   "execution_count": 18,
   "metadata": {},
   "outputs": [],
   "source": [
    "if(len(fname) < 1) :fname = 'mbox-short.txt'"
   ]
  },
  {
   "cell_type": "markdown",
   "metadata": {},
   "source": [
    "### 5. 데이터 추출 DB에 삽입\n",
    "- 텍스트에서 이메일 추출 "
   ]
  },
  {
   "cell_type": "code",
   "execution_count": 19,
   "metadata": {},
   "outputs": [],
   "source": [
    "fhand = open(fname)\n",
    "for line in fhand :\n",
    "    line = line.split()\n",
    "    if len(line) == 0: continue\n",
    "    if line[0] != 'From': continue\n",
    "    email = line[1]\n",
    "    cur.execute('SELECT count FROM Counts WHERE email = ?' ,(email,))\n",
    "    row = cur.fetchone()\n",
    "    if row is None :\n",
    "        cur.execute('INSERT INTO Counts (email, count) VALUES(?,1)',(email,))\n",
    "    else :\n",
    "        cur.execute('UPDATE Counts SET count = count+1 WHERE email=?',(email,))\n",
    "    conn.commit()"
   ]
  },
  {
   "cell_type": "markdown",
   "metadata": {},
   "source": [
    "### 6. 테이블 전체 검색"
   ]
  },
  {
   "cell_type": "code",
   "execution_count": 51,
   "metadata": {},
   "outputs": [
    {
     "data": {
      "text/plain": [
       "<sqlite3.Cursor at 0x1981af488f0>"
      ]
     },
     "execution_count": 51,
     "metadata": {},
     "output_type": "execute_result"
    }
   ],
   "source": [
    "sql = 'SELECT id, email, count FROM Counts ORDER BY count DESC LIMIT 10'\n",
    "cur.execute(sql)"
   ]
  },
  {
   "cell_type": "code",
   "execution_count": 49,
   "metadata": {},
   "outputs": [],
   "source": [
    "# 수정  - update [테이블명] set [컬럼명]=변경값 where 조건\n",
    "# 삭제 - delete from [테이블명] where 조건"
   ]
  },
  {
   "cell_type": "code",
   "execution_count": 50,
   "metadata": {},
   "outputs": [
    {
     "name": "stdout",
     "output_type": "stream",
     "text": [
      "아이디 :  5 이메일:                 cwen@iupui.edu, 개수 : 5\n",
      "아이디 :  3 이메일:                zqian@umich.edu, 개수 : 4\n",
      "아이디 : 10 이메일:        david.horwitz@uct.ac.za, 개수 : 4\n",
      "아이디 :  2 이메일:       louis@media.berkeley.edu, 개수 : 3\n",
      "아이디 :  6 이메일:              gsilver@umich.edu, 개수 : 3\n",
      "아이디 :  1 이메일:     stephen.marquard@uct.ac.za, 개수 : 2\n",
      "아이디 :  4 이메일:               rjlowe@iupui.edu, 개수 : 2\n",
      "아이디 :  7 이메일:             wagnermr@iupui.edu, 개수 : 1\n",
      "아이디 :  8 이메일:       antranig@caret.cam.ac.uk, 개수 : 1\n",
      "아이디 :  9 이메일:  gopal.ramasammycook@gmail.com, 개수 : 1\n"
     ]
    }
   ],
   "source": [
    "table = cur.fetchall()\n",
    "for record in table:\n",
    "    print(\"아이디 : %2s 이메일: %30s, 개수 : %1s\" % record)"
   ]
  },
  {
   "cell_type": "code",
   "execution_count": 52,
   "metadata": {},
   "outputs": [
    {
     "name": "stdout",
     "output_type": "stream",
     "text": [
      "아이디 :  5 이메일:                 cwen@iupui.edu, 개수 : 5\n",
      "아이디 :  3 이메일:                zqian@umich.edu, 개수 : 4\n",
      "아이디 : 10 이메일:        david.horwitz@uct.ac.za, 개수 : 4\n",
      "아이디 :  2 이메일:       louis@media.berkeley.edu, 개수 : 3\n",
      "아이디 :  6 이메일:              gsilver@umich.edu, 개수 : 3\n",
      "아이디 :  1 이메일:     stephen.marquard@uct.ac.za, 개수 : 2\n",
      "아이디 :  4 이메일:               rjlowe@iupui.edu, 개수 : 2\n",
      "아이디 :  7 이메일:             wagnermr@iupui.edu, 개수 : 1\n",
      "아이디 :  8 이메일:       antranig@caret.cam.ac.uk, 개수 : 1\n",
      "아이디 :  9 이메일:  gopal.ramasammycook@gmail.com, 개수 : 1\n"
     ]
    }
   ],
   "source": [
    "while True :\n",
    "    record = cur.fetchone()\n",
    "    if record == None:\n",
    "        break\n",
    "    print(\"아이디 : %2s 이메일: %30s, 개수 : %1s\" % record)"
   ]
  },
  {
   "cell_type": "markdown",
   "metadata": {},
   "source": [
    "### 7.DB 연결 종료"
   ]
  },
  {
   "cell_type": "code",
   "execution_count": 53,
   "metadata": {},
   "outputs": [],
   "source": [
    "cur.close()"
   ]
  },
  {
   "cell_type": "code",
   "execution_count": 54,
   "metadata": {},
   "outputs": [],
   "source": [
    "conn.close()"
   ]
  }
 ],
 "metadata": {
  "kernelspec": {
   "display_name": "Python 3",
   "language": "python",
   "name": "python3"
  },
  "language_info": {
   "codemirror_mode": {
    "name": "ipython",
    "version": 3
   },
   "file_extension": ".py",
   "mimetype": "text/x-python",
   "name": "python",
   "nbconvert_exporter": "python",
   "pygments_lexer": "ipython3",
   "version": "3.7.1"
  }
 },
 "nbformat": 4,
 "nbformat_minor": 2
}
