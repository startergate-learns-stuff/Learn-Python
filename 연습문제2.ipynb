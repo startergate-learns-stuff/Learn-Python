{
 "cells": [
  {
   "cell_type": "markdown",
   "metadata": {},
   "source": [
    "1. 다음 소스 코드를 완성하여 리스트 a에 들어있는 문자열 중에서 길이가 5인 것들만 리스트 형태로 출력하기"
   ]
  },
  {
   "cell_type": "code",
   "execution_count": 1,
   "metadata": {},
   "outputs": [
    {
     "name": "stdout",
     "output_type": "stream",
     "text": [
      "['alpha', 'bravo', 'delta', 'hotel', 'india']\n"
     ]
    }
   ],
   "source": [
    "a = ['alpha', 'bravo', 'charlie', 'delta', 'echo', 'foxtrot', 'golf', 'hotel', 'india']\n",
    "b = [                           ]\n",
    "for name in a:\n",
    "    if len(name) == 5:\n",
    "        b.append(name)\n",
    "print(b)"
   ]
  },
  {
   "cell_type": "markdown",
   "metadata": {},
   "source": [
    "2. 다음 소스 코드를 완성하여 확장자가 .jpg, .png인 이미지 파일만 출력하기"
   ]
  },
  {
   "cell_type": "code",
   "execution_count": 2,
   "metadata": {},
   "outputs": [
    {
     "name": "stdout",
     "output_type": "stream",
     "text": [
      "1.png\n",
      "10.jpg\n",
      "2.jpg\n",
      "3.png\n"
     ]
    }
   ],
   "source": [
    "files = ['font', '1.png', '10.jpg', '11.gif', '2.jpg', '3.png', 'table.xslx', 'spec.docx']\n",
    "\n",
    "for file in files:\n",
    "    splitedFile = file.split('.')\n",
    "    if splitedFile[-1] == 'jpg' or splitedFile[-1] == 'png':\n",
    "        print(file)"
   ]
  },
  {
   "cell_type": "markdown",
   "metadata": {},
   "source": [
    "3. 파일 경로에서 파일명만 가져오기"
   ]
  },
  {
   "cell_type": "code",
   "execution_count": 3,
   "metadata": {},
   "outputs": [
    {
     "data": {
      "text/plain": [
       "'python.exe'"
      ]
     },
     "execution_count": 3,
     "metadata": {},
     "output_type": "execute_result"
    }
   ],
   "source": [
    "path = 'C:\\\\Users\\\\dojang\\\\AppData\\\\Local\\\\Programs\\\\Python\\\\Python36-32\\\\python.exe'\n",
    "splitedPath = path.split('\\\\')\n",
    "splitedPath[-1]"
   ]
  },
  {
   "cell_type": "markdown",
   "metadata": {},
   "source": [
    "4. 특정문자의 갯수 출력하는 함수 만들기"
   ]
  },
  {
   "cell_type": "code",
   "execution_count": 4,
   "metadata": {
    "scrolled": false
   },
   "outputs": [
    {
     "name": "stdout",
     "output_type": "stream",
     "text": [
      "the grown-ups' response this time was to advise me to lay aside my drawings of boa constrictors whether from the inside or the outside and devote myself instead to geography history arithmetic and grammar  that is why at the age of six i gave up what might have been a magnificent career as a painter i had been disheartened by the failure of my drawing number one and my  drawing number two grown-ups never understand anything by themselves and it is tiresome for children to be always and forever explaining things to the\n",
      "the\n",
      "6\n"
     ]
    }
   ],
   "source": [
    "text='''the grown-ups' response, this time, was to advise me to\n",
    "lay aside my drawings of boa constrictors, whether from the inside or the outside,\n",
    "and devote myself instead to geography, history, arithmetic, and grammar. \n",
    "That is why, at the, age of six, I gave up what might have been a magnificent career\n",
    "as a painter. I had been disheartened by the failure of my Drawing Number One and my \n",
    "Drawing Number Two. Grown-ups never understand anything by themselves, and it is tiresome\n",
    "for children to be always and forever explaining things to the.'''\n",
    "\n",
    "text = text.replace('.', '')\n",
    "text = text.replace(',', '')\n",
    "text = text.replace('\\n', ' ')\n",
    "text = text.lower()\n",
    "print(text)\n",
    "def countChars(text, char):\n",
    "    sum = 0\n",
    "    for c in text.split():\n",
    "        if c == char:\n",
    "            sum += 1\n",
    "            \n",
    "    return sum\n",
    "\n",
    "a = input()\n",
    "print(countChars(text, a))"
   ]
  },
  {
   "cell_type": "markdown",
   "metadata": {},
   "source": [
    "5. 입력된 가격을 높은 가격순으로 출력하는 함수\n",
    "\n",
    "입력예 : 51900;83000;158000;367500;250000;59200;128500;1304000"
   ]
  },
  {
   "cell_type": "markdown",
   "metadata": {},
   "source": [
    "- format함수를 이용하여 천단위 콤마표시하기"
   ]
  },
  {
   "cell_type": "code",
   "execution_count": 5,
   "metadata": {},
   "outputs": [
    {
     "name": "stdout",
     "output_type": "stream",
     "text": [
      " 51900;83000;158000;367500;250000;59200;128500;1304000\n",
      "1,304,000\n",
      "367,500\n",
      "250,000\n",
      "158,000\n",
      "128,500\n",
      "83,000\n",
      "59,200\n",
      "51,900\n"
     ]
    }
   ],
   "source": [
    "pricelist = list(map(lambda x: int(x), input().split(';')))\n",
    "pricelist.sort(reverse=True)\n",
    "for i in pricelist:\n",
    "    print(format(i,','))"
   ]
  }
 ],
 "metadata": {
  "kernelspec": {
   "display_name": "Python 3",
   "language": "python",
   "name": "python3"
  },
  "language_info": {
   "codemirror_mode": {
    "name": "ipython",
    "version": 3
   },
   "file_extension": ".py",
   "mimetype": "text/x-python",
   "name": "python",
   "nbconvert_exporter": "python",
   "pygments_lexer": "ipython3",
   "version": "3.7.1"
  }
 },
 "nbformat": 4,
 "nbformat_minor": 2
}
